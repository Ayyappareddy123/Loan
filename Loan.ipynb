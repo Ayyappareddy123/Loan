{
  "metadata": {
    "kernelspec": {
      "language": "python",
      "display_name": "Python 3",
      "name": "python3"
    },
    "language_info": {
      "name": "python",
      "version": "3.7.10",
      "mimetype": "text/x-python",
      "codemirror_mode": {
        "name": "ipython",
        "version": 3
      },
      "pygments_lexer": "ipython3",
      "nbconvert_exporter": "python",
      "file_extension": ".py"
    },
    "colab": {
      "name": "Loan.ipynb",
      "provenance": [],
      "collapsed_sections": [
        "r238zFy8f-xl",
        "_3IOljdqgEd0",
        "MS0qL8PC4K3o",
        "1taw0vyy7hu9",
        "sZiCQChQ8IUG",
        "z9iKq1Xy9fmw",
        "bjlQpJN59UbD",
        "cnen-6ZD9ZWc"
      ]
    }
  },
  "nbformat_minor": 0,
  "nbformat": 4,
  "cells": [
    {
      "cell_type": "markdown",
      "source": [
        "##Importing Libraries \n"
      ],
      "metadata": {
        "id": "r238zFy8f-xl"
      }
    },
    {
      "cell_type": "code",
      "source": [
        "import numpy as np\n",
        "import pandas as pd\n",
        "import matplotlib.pyplot as plt\n",
        "import missingno as mso\n",
        "import seaborn as sns\n",
        "import warnings\n",
        "import os\n",
        "import scipy\n",
        "\n",
        "from scipy import stats\n",
        "from scipy.stats import pearsonr\n",
        "from scipy.stats import ttest_ind\n",
        "from sklearn.metrics import classification_report\n",
        "from sklearn.metrics import confusion_matrix\n",
        "from sklearn.preprocessing import MinMaxScaler\n",
        "from sklearn.model_selection import train_test_split\n",
        "from imblearn.over_sampling import SMOTE\n",
        "\n",
        "from sklearn.linear_model import LogisticRegression\n",
        "from sklearn.neighbors import KNeighborsClassifier\n",
        "from sklearn.svm import SVC\n",
        "from sklearn.naive_bayes import CategoricalNB\n",
        "from sklearn.naive_bayes import GaussianNB\n",
        "from sklearn.tree import DecisionTreeClassifier\n",
        "from sklearn.ensemble import RandomForestClassifier\n",
        "from sklearn.ensemble import GradientBoostingClassifier\n",
        "from xgboost import XGBClassifier\n",
        "from sklearn.model_selection import GridSearchCV, RandomizedSearchCV"
      ],
      "metadata": {
        "id": "0tAGJPoeKrfI",
        "execution": {
          "iopub.status.busy": "2022-03-08T02:28:35.419717Z",
          "iopub.execute_input": "2022-03-08T02:28:35.420087Z",
          "iopub.status.idle": "2022-03-08T02:28:36.954209Z",
          "shell.execute_reply.started": "2022-03-08T02:28:35.419989Z",
          "shell.execute_reply": "2022-03-08T02:28:36.953237Z"
        },
        "trusted": true
      },
      "execution_count": 110,
      "outputs": []
    },
    {
      "cell_type": "markdown",
      "source": [
        "#Reading Data Set"
      ],
      "metadata": {
        "id": "_3IOljdqgEd0"
      }
    },
    {
      "cell_type": "code",
      "source": [
        "df = pd.read_csv(\"trainingdataset.csv\")\n",
        "df.head()"
      ],
      "metadata": {
        "id": "-9VxuECvXJIR",
        "outputId": "8be78dcf-5c55-4c15-8e4a-c3a59dfd137e",
        "execution": {
          "iopub.status.busy": "2022-03-08T02:28:36.956629Z",
          "iopub.execute_input": "2022-03-08T02:28:36.957588Z",
          "iopub.status.idle": "2022-03-08T02:28:37.002723Z",
          "shell.execute_reply.started": "2022-03-08T02:28:36.957530Z",
          "shell.execute_reply": "2022-03-08T02:28:37.001806Z"
        },
        "trusted": true,
        "colab": {
          "base_uri": "https://localhost:8080/",
          "height": 287
        }
      },
      "execution_count": 176,
      "outputs": [
        {
          "output_type": "execute_result",
          "data": {
            "text/plain": [
              "    Loan_ID Gender Married Dependents     Education Self_Employed  \\\n",
              "0  LP001002   Male      No          0      Graduate            No   \n",
              "1  LP001003   Male     Yes          1      Graduate            No   \n",
              "2  LP001005   Male     Yes          0      Graduate           Yes   \n",
              "3  LP001006   Male     Yes          0  Not Graduate            No   \n",
              "4  LP001008   Male      No          0      Graduate            No   \n",
              "\n",
              "   ApplicantIncome  CoapplicantIncome  LoanAmount  Loan_Amount_Term  \\\n",
              "0             5849                0.0         NaN             360.0   \n",
              "1             4583             1508.0       128.0             360.0   \n",
              "2             3000                0.0        66.0             360.0   \n",
              "3             2583             2358.0       120.0             360.0   \n",
              "4             6000                0.0       141.0             360.0   \n",
              "\n",
              "   Credit_History Property_Area Loan_Status  \n",
              "0             1.0         Urban           Y  \n",
              "1             1.0         Rural           N  \n",
              "2             1.0         Urban           Y  \n",
              "3             1.0         Urban           Y  \n",
              "4             1.0         Urban           Y  "
            ],
            "text/html": [
              "\n",
              "  <div id=\"df-45e87008-cb43-494b-8546-59e738ab2eb7\">\n",
              "    <div class=\"colab-df-container\">\n",
              "      <div>\n",
              "<style scoped>\n",
              "    .dataframe tbody tr th:only-of-type {\n",
              "        vertical-align: middle;\n",
              "    }\n",
              "\n",
              "    .dataframe tbody tr th {\n",
              "        vertical-align: top;\n",
              "    }\n",
              "\n",
              "    .dataframe thead th {\n",
              "        text-align: right;\n",
              "    }\n",
              "</style>\n",
              "<table border=\"1\" class=\"dataframe\">\n",
              "  <thead>\n",
              "    <tr style=\"text-align: right;\">\n",
              "      <th></th>\n",
              "      <th>Loan_ID</th>\n",
              "      <th>Gender</th>\n",
              "      <th>Married</th>\n",
              "      <th>Dependents</th>\n",
              "      <th>Education</th>\n",
              "      <th>Self_Employed</th>\n",
              "      <th>ApplicantIncome</th>\n",
              "      <th>CoapplicantIncome</th>\n",
              "      <th>LoanAmount</th>\n",
              "      <th>Loan_Amount_Term</th>\n",
              "      <th>Credit_History</th>\n",
              "      <th>Property_Area</th>\n",
              "      <th>Loan_Status</th>\n",
              "    </tr>\n",
              "  </thead>\n",
              "  <tbody>\n",
              "    <tr>\n",
              "      <th>0</th>\n",
              "      <td>LP001002</td>\n",
              "      <td>Male</td>\n",
              "      <td>No</td>\n",
              "      <td>0</td>\n",
              "      <td>Graduate</td>\n",
              "      <td>No</td>\n",
              "      <td>5849</td>\n",
              "      <td>0.0</td>\n",
              "      <td>NaN</td>\n",
              "      <td>360.0</td>\n",
              "      <td>1.0</td>\n",
              "      <td>Urban</td>\n",
              "      <td>Y</td>\n",
              "    </tr>\n",
              "    <tr>\n",
              "      <th>1</th>\n",
              "      <td>LP001003</td>\n",
              "      <td>Male</td>\n",
              "      <td>Yes</td>\n",
              "      <td>1</td>\n",
              "      <td>Graduate</td>\n",
              "      <td>No</td>\n",
              "      <td>4583</td>\n",
              "      <td>1508.0</td>\n",
              "      <td>128.0</td>\n",
              "      <td>360.0</td>\n",
              "      <td>1.0</td>\n",
              "      <td>Rural</td>\n",
              "      <td>N</td>\n",
              "    </tr>\n",
              "    <tr>\n",
              "      <th>2</th>\n",
              "      <td>LP001005</td>\n",
              "      <td>Male</td>\n",
              "      <td>Yes</td>\n",
              "      <td>0</td>\n",
              "      <td>Graduate</td>\n",
              "      <td>Yes</td>\n",
              "      <td>3000</td>\n",
              "      <td>0.0</td>\n",
              "      <td>66.0</td>\n",
              "      <td>360.0</td>\n",
              "      <td>1.0</td>\n",
              "      <td>Urban</td>\n",
              "      <td>Y</td>\n",
              "    </tr>\n",
              "    <tr>\n",
              "      <th>3</th>\n",
              "      <td>LP001006</td>\n",
              "      <td>Male</td>\n",
              "      <td>Yes</td>\n",
              "      <td>0</td>\n",
              "      <td>Not Graduate</td>\n",
              "      <td>No</td>\n",
              "      <td>2583</td>\n",
              "      <td>2358.0</td>\n",
              "      <td>120.0</td>\n",
              "      <td>360.0</td>\n",
              "      <td>1.0</td>\n",
              "      <td>Urban</td>\n",
              "      <td>Y</td>\n",
              "    </tr>\n",
              "    <tr>\n",
              "      <th>4</th>\n",
              "      <td>LP001008</td>\n",
              "      <td>Male</td>\n",
              "      <td>No</td>\n",
              "      <td>0</td>\n",
              "      <td>Graduate</td>\n",
              "      <td>No</td>\n",
              "      <td>6000</td>\n",
              "      <td>0.0</td>\n",
              "      <td>141.0</td>\n",
              "      <td>360.0</td>\n",
              "      <td>1.0</td>\n",
              "      <td>Urban</td>\n",
              "      <td>Y</td>\n",
              "    </tr>\n",
              "  </tbody>\n",
              "</table>\n",
              "</div>\n",
              "      <button class=\"colab-df-convert\" onclick=\"convertToInteractive('df-45e87008-cb43-494b-8546-59e738ab2eb7')\"\n",
              "              title=\"Convert this dataframe to an interactive table.\"\n",
              "              style=\"display:none;\">\n",
              "        \n",
              "  <svg xmlns=\"http://www.w3.org/2000/svg\" height=\"24px\"viewBox=\"0 0 24 24\"\n",
              "       width=\"24px\">\n",
              "    <path d=\"M0 0h24v24H0V0z\" fill=\"none\"/>\n",
              "    <path d=\"M18.56 5.44l.94 2.06.94-2.06 2.06-.94-2.06-.94-.94-2.06-.94 2.06-2.06.94zm-11 1L8.5 8.5l.94-2.06 2.06-.94-2.06-.94L8.5 2.5l-.94 2.06-2.06.94zm10 10l.94 2.06.94-2.06 2.06-.94-2.06-.94-.94-2.06-.94 2.06-2.06.94z\"/><path d=\"M17.41 7.96l-1.37-1.37c-.4-.4-.92-.59-1.43-.59-.52 0-1.04.2-1.43.59L10.3 9.45l-7.72 7.72c-.78.78-.78 2.05 0 2.83L4 21.41c.39.39.9.59 1.41.59.51 0 1.02-.2 1.41-.59l7.78-7.78 2.81-2.81c.8-.78.8-2.07 0-2.86zM5.41 20L4 18.59l7.72-7.72 1.47 1.35L5.41 20z\"/>\n",
              "  </svg>\n",
              "      </button>\n",
              "      \n",
              "  <style>\n",
              "    .colab-df-container {\n",
              "      display:flex;\n",
              "      flex-wrap:wrap;\n",
              "      gap: 12px;\n",
              "    }\n",
              "\n",
              "    .colab-df-convert {\n",
              "      background-color: #E8F0FE;\n",
              "      border: none;\n",
              "      border-radius: 50%;\n",
              "      cursor: pointer;\n",
              "      display: none;\n",
              "      fill: #1967D2;\n",
              "      height: 32px;\n",
              "      padding: 0 0 0 0;\n",
              "      width: 32px;\n",
              "    }\n",
              "\n",
              "    .colab-df-convert:hover {\n",
              "      background-color: #E2EBFA;\n",
              "      box-shadow: 0px 1px 2px rgba(60, 64, 67, 0.3), 0px 1px 3px 1px rgba(60, 64, 67, 0.15);\n",
              "      fill: #174EA6;\n",
              "    }\n",
              "\n",
              "    [theme=dark] .colab-df-convert {\n",
              "      background-color: #3B4455;\n",
              "      fill: #D2E3FC;\n",
              "    }\n",
              "\n",
              "    [theme=dark] .colab-df-convert:hover {\n",
              "      background-color: #434B5C;\n",
              "      box-shadow: 0px 1px 3px 1px rgba(0, 0, 0, 0.15);\n",
              "      filter: drop-shadow(0px 1px 2px rgba(0, 0, 0, 0.3));\n",
              "      fill: #FFFFFF;\n",
              "    }\n",
              "  </style>\n",
              "\n",
              "      <script>\n",
              "        const buttonEl =\n",
              "          document.querySelector('#df-45e87008-cb43-494b-8546-59e738ab2eb7 button.colab-df-convert');\n",
              "        buttonEl.style.display =\n",
              "          google.colab.kernel.accessAllowed ? 'block' : 'none';\n",
              "\n",
              "        async function convertToInteractive(key) {\n",
              "          const element = document.querySelector('#df-45e87008-cb43-494b-8546-59e738ab2eb7');\n",
              "          const dataTable =\n",
              "            await google.colab.kernel.invokeFunction('convertToInteractive',\n",
              "                                                     [key], {});\n",
              "          if (!dataTable) return;\n",
              "\n",
              "          const docLinkHtml = 'Like what you see? Visit the ' +\n",
              "            '<a target=\"_blank\" href=https://colab.research.google.com/notebooks/data_table.ipynb>data table notebook</a>'\n",
              "            + ' to learn more about interactive tables.';\n",
              "          element.innerHTML = '';\n",
              "          dataTable['output_type'] = 'display_data';\n",
              "          await google.colab.output.renderOutput(dataTable, element);\n",
              "          const docLink = document.createElement('div');\n",
              "          docLink.innerHTML = docLinkHtml;\n",
              "          element.appendChild(docLink);\n",
              "        }\n",
              "      </script>\n",
              "    </div>\n",
              "  </div>\n",
              "  "
            ]
          },
          "metadata": {},
          "execution_count": 176
        }
      ]
    },
    {
      "cell_type": "code",
      "source": [
        "print(df.shape)"
      ],
      "metadata": {
        "id": "QLUH-tNjh1b8",
        "outputId": "7f8c3f7f-52b3-4f92-f4d5-810a336ea9c2",
        "execution": {
          "iopub.status.busy": "2022-03-08T02:28:37.003870Z",
          "iopub.execute_input": "2022-03-08T02:28:37.004250Z",
          "iopub.status.idle": "2022-03-08T02:28:37.009217Z",
          "shell.execute_reply.started": "2022-03-08T02:28:37.004206Z",
          "shell.execute_reply": "2022-03-08T02:28:37.008333Z"
        },
        "trusted": true,
        "colab": {
          "base_uri": "https://localhost:8080/",
          "height": 0
        }
      },
      "execution_count": 177,
      "outputs": [
        {
          "output_type": "stream",
          "name": "stdout",
          "text": [
            "(614, 13)\n"
          ]
        }
      ]
    },
    {
      "cell_type": "markdown",
      "source": [
        "**13 columns & **614 observations in the data set.\n",
        "\n",
        "\n"
      ],
      "metadata": {
        "id": "icrmwUvviQAX"
      }
    },
    {
      "cell_type": "markdown",
      "source": [
        "#1.Data Exploration \n"
      ],
      "metadata": {
        "id": "q-gxXHlThKhK"
      }
    },
    {
      "cell_type": "markdown",
      "source": [
        "## 1.1 Categorical Variable \n",
        "The first type of variable that I will explore is categorical variable."
      ],
      "metadata": {
        "id": "e6VEKBKohdAs"
      }
    },
    {
      "cell_type": "markdown",
      "source": [
        "###1.1 Loan ID"
      ],
      "metadata": {
        "id": "R1DsvbVQi2iw"
      }
    },
    {
      "cell_type": "code",
      "source": [
        "df.Loan_ID.value_counts(dropna=False)"
      ],
      "metadata": {
        "id": "NIqCAFjRi5Bo",
        "outputId": "3cd5ba98-ac7b-4fc8-a0fc-1fa23a0dcf2a",
        "execution": {
          "iopub.status.busy": "2022-03-08T02:28:37.010426Z",
          "iopub.execute_input": "2022-03-08T02:28:37.011167Z",
          "iopub.status.idle": "2022-03-08T02:28:37.030711Z",
          "shell.execute_reply.started": "2022-03-08T02:28:37.011111Z",
          "shell.execute_reply": "2022-03-08T02:28:37.029786Z"
        },
        "trusted": true,
        "colab": {
          "base_uri": "https://localhost:8080/",
          "height": 0
        }
      },
      "execution_count": 178,
      "outputs": [
        {
          "output_type": "execute_result",
          "data": {
            "text/plain": [
              "LP001002    1\n",
              "LP002328    1\n",
              "LP002305    1\n",
              "LP002308    1\n",
              "LP002314    1\n",
              "           ..\n",
              "LP001692    1\n",
              "LP001693    1\n",
              "LP001698    1\n",
              "LP001699    1\n",
              "LP002990    1\n",
              "Name: Loan_ID, Length: 614, dtype: int64"
            ]
          },
          "metadata": {},
          "execution_count": 178
        }
      ]
    },
    {
      "cell_type": "markdown",
      "source": [
        "614 unique ID in the dataset."
      ],
      "metadata": {
        "id": "12npx9e_i7xB"
      }
    },
    {
      "cell_type": "markdown",
      "source": [
        "1.2 Gender"
      ],
      "metadata": {
        "id": "P0PIgD0sizNr"
      }
    },
    {
      "cell_type": "code",
      "source": [
        "df.Gender.value_counts(dropna=False)"
      ],
      "metadata": {
        "id": "-FCfZqBthMS9",
        "outputId": "2f283774-4720-4ef4-e4e2-df003f57d95c",
        "execution": {
          "iopub.status.busy": "2022-03-08T02:28:37.032613Z",
          "iopub.execute_input": "2022-03-08T02:28:37.033234Z",
          "iopub.status.idle": "2022-03-08T02:28:37.041284Z",
          "shell.execute_reply.started": "2022-03-08T02:28:37.033199Z",
          "shell.execute_reply": "2022-03-08T02:28:37.040323Z"
        },
        "trusted": true,
        "colab": {
          "base_uri": "https://localhost:8080/",
          "height": 0
        }
      },
      "execution_count": 179,
      "outputs": [
        {
          "output_type": "execute_result",
          "data": {
            "text/plain": [
              "Male      489\n",
              "Female    112\n",
              "NaN        13\n",
              "Name: Gender, dtype: int64"
            ]
          },
          "metadata": {},
          "execution_count": 179
        }
      ]
    },
    {
      "cell_type": "code",
      "source": [
        "sns.countplot(x=\"Gender\", data=df, palette=\"hls\")\n",
        "plt.show()"
      ],
      "metadata": {
        "id": "J4m9mVNniwED",
        "outputId": "dd6c2da3-d55b-4236-de45-722e94cdcd40",
        "execution": {
          "iopub.status.busy": "2022-03-08T02:28:37.042563Z",
          "iopub.execute_input": "2022-03-08T02:28:37.043156Z",
          "iopub.status.idle": "2022-03-08T02:28:37.243272Z",
          "shell.execute_reply.started": "2022-03-08T02:28:37.043110Z",
          "shell.execute_reply": "2022-03-08T02:28:37.242328Z"
        },
        "trusted": true,
        "colab": {
          "base_uri": "https://localhost:8080/",
          "height": 285
        }
      },
      "execution_count": 180,
      "outputs": [
        {
          "output_type": "display_data",
          "data": {
            "text/plain": [
              "<Figure size 432x288 with 1 Axes>"
            ],
            "image/png": "[encoded data removed]"
          },
          "metadata": {}
        }
      ]
    },
    {
      "cell_type": "code",
      "source": [
        "countMale = len(df[df.Gender == 'Male'])\n",
        "countFemale = len(df[df.Gender == 'Female'])\n",
        "countNull = len(df[df.Gender.isnull()])\n",
        "\n",
        "print(\"Percentage of Male applicant: {:.2f}%\".format((countMale / (len(df.Gender))*100)))\n",
        "print(\"Percentage of Female applicant: {:.2f}%\".format((countFemale / (len(df.Gender))*100)))\n",
        "print(\"Missing values percentage: {:.2f}%\".format((countNull / (len(df.Gender))*100)))"
      ],
      "metadata": {
        "id": "P7dngibeoNnH",
        "outputId": "ba109812-5a9d-47c9-cfb3-87b51711267b",
        "execution": {
          "iopub.status.busy": "2022-03-08T02:28:37.244670Z",
          "iopub.execute_input": "2022-03-08T02:28:37.244982Z",
          "iopub.status.idle": "2022-03-08T02:28:37.259346Z",
          "shell.execute_reply.started": "2022-03-08T02:28:37.244923Z",
          "shell.execute_reply": "2022-03-08T02:28:37.258176Z"
        },
        "trusted": true,
        "colab": {
          "base_uri": "https://localhost:8080/",
          "height": 0
        }
      },
      "execution_count": 181,
      "outputs": [
        {
          "output_type": "stream",
          "name": "stdout",
          "text": [
            "Percentage of Male applicant: 79.64%\n",
            "Percentage of Female applicant: 18.24%\n",
            "Missing values percentage: 2.12%\n"
          ]
        }
      ]
    },
    {
      "cell_type": "markdown",
      "source": [
        "The number of male applicants is higher compared to female applicants. It also can be seen there are missing values in this column."
      ],
      "metadata": {
        "id": "x-DNl5fMjDAu"
      }
    },
    {
      "cell_type": "markdown",
      "source": [
        "###1.3 Married"
      ],
      "metadata": {
        "id": "b_Mkfxy6k2kS"
      }
    },
    {
      "cell_type": "code",
      "source": [
        "df.Married.value_counts(dropna=False)"
      ],
      "metadata": {
        "id": "GxBR8uJpk95l",
        "outputId": "7ccbb5ae-5aa6-435f-f816-3a83f453d0e6",
        "execution": {
          "iopub.status.busy": "2022-03-08T02:28:37.261207Z",
          "iopub.execute_input": "2022-03-08T02:28:37.261924Z",
          "iopub.status.idle": "2022-03-08T02:28:37.273082Z",
          "shell.execute_reply.started": "2022-03-08T02:28:37.261854Z",
          "shell.execute_reply": "2022-03-08T02:28:37.272383Z"
        },
        "trusted": true,
        "colab": {
          "base_uri": "https://localhost:8080/",
          "height": 0
        }
      },
      "execution_count": 182,
      "outputs": [
        {
          "output_type": "execute_result",
          "data": {
            "text/plain": [
              "Yes    398\n",
              "No     213\n",
              "NaN      3\n",
              "Name: Married, dtype: int64"
            ]
          },
          "metadata": {},
          "execution_count": 182
        }
      ]
    },
    {
      "cell_type": "code",
      "source": [
        "sns.countplot(x=\"Married\", data=df, palette=\"Paired\")\n",
        "plt.show()"
      ],
      "metadata": {
        "id": "7PSgGPJ-lNAI",
        "outputId": "d12c89c4-6d1a-4e91-e1a5-371330d0447b",
        "execution": {
          "iopub.status.busy": "2022-03-08T02:28:37.274800Z",
          "iopub.execute_input": "2022-03-08T02:28:37.276197Z",
          "iopub.status.idle": "2022-03-08T02:28:37.446978Z",
          "shell.execute_reply.started": "2022-03-08T02:28:37.276120Z",
          "shell.execute_reply": "2022-03-08T02:28:37.446228Z"
        },
        "trusted": true,
        "colab": {
          "base_uri": "https://localhost:8080/",
          "height": 285
        }
      },
      "execution_count": 183,
      "outputs": [
        {
          "output_type": "display_data",
          "data": {
            "text/plain": [
              "<Figure size 432x288 with 1 Axes>"
            ],
            "image/png": "[encoded data removed]"
          },
          "metadata": {}
        }
      ]
    },
    {
      "cell_type": "markdown",
      "source": [
        "The number of applicants that has been married is higher compared to applicants that hasn't married."
      ],
      "metadata": {
        "id": "103tu8DvlV0V"
      }
    },
    {
      "cell_type": "code",
      "source": [
        "countMarried = len(df[df.Married == 'Yes'])\n",
        "countNotMarried = len(df[df.Married == 'No'])\n",
        "countNull = len(df[df.Married.isnull()])\n",
        "\n",
        "print(\"Percentage of married: {:.2f}%\".format((countMarried / (len(df.Married))*100)))\n",
        "print(\"Percentage of Not married applicant: {:.2f}%\".format((countNotMarried / (len(df.Married))*100)))\n",
        "print(\"Missing values percentage: {:.2f}%\".format((countNull / (len(df.Married))*100)))"
      ],
      "metadata": {
        "id": "Iy-ECFncpHOg",
        "outputId": "ea686997-b052-406f-d270-85036f377f36",
        "execution": {
          "iopub.status.busy": "2022-03-08T02:28:37.448053Z",
          "iopub.execute_input": "2022-03-08T02:28:37.448618Z",
          "iopub.status.idle": "2022-03-08T02:28:37.457895Z",
          "shell.execute_reply.started": "2022-03-08T02:28:37.448584Z",
          "shell.execute_reply": "2022-03-08T02:28:37.457175Z"
        },
        "trusted": true,
        "colab": {
          "base_uri": "https://localhost:8080/",
          "height": 0
        }
      },
      "execution_count": 184,
      "outputs": [
        {
          "output_type": "stream",
          "name": "stdout",
          "text": [
            "Percentage of married: 64.82%\n",
            "Percentage of Not married applicant: 34.69%\n",
            "Missing values percentage: 0.49%\n"
          ]
        }
      ]
    },
    {
      "cell_type": "markdown",
      "source": [
        "###1.4 Education"
      ],
      "metadata": {
        "id": "Ytz_I82Vl3Wu"
      }
    },
    {
      "cell_type": "code",
      "source": [
        "df.Education.value_counts(dropna=False)"
      ],
      "metadata": {
        "id": "Qqa3XmC5l3Wv",
        "outputId": "b900a262-828f-4da1-a1b3-e2ccc655b5bf",
        "execution": {
          "iopub.status.busy": "2022-03-08T02:28:37.458987Z",
          "iopub.execute_input": "2022-03-08T02:28:37.460258Z",
          "iopub.status.idle": "2022-03-08T02:28:37.475857Z",
          "shell.execute_reply.started": "2022-03-08T02:28:37.460216Z",
          "shell.execute_reply": "2022-03-08T02:28:37.475184Z"
        },
        "trusted": true,
        "colab": {
          "base_uri": "https://localhost:8080/",
          "height": 0
        }
      },
      "execution_count": 185,
      "outputs": [
        {
          "output_type": "execute_result",
          "data": {
            "text/plain": [
              "Graduate        480\n",
              "Not Graduate    134\n",
              "Name: Education, dtype: int64"
            ]
          },
          "metadata": {},
          "execution_count": 185
        }
      ]
    },
    {
      "cell_type": "code",
      "source": [
        "sns.countplot(x=\"Education\", data=df, palette=\"rocket\")\n",
        "plt.show()"
      ],
      "metadata": {
        "id": "rOSIyek7l3Wv",
        "outputId": "f4fbb0cf-1a91-47b7-e0d2-0040870c8a9a",
        "execution": {
          "iopub.status.busy": "2022-03-08T02:28:37.477178Z",
          "iopub.execute_input": "2022-03-08T02:28:37.478210Z",
          "iopub.status.idle": "2022-03-08T02:28:37.643701Z",
          "shell.execute_reply.started": "2022-03-08T02:28:37.478156Z",
          "shell.execute_reply": "2022-03-08T02:28:37.642794Z"
        },
        "trusted": true,
        "colab": {
          "base_uri": "https://localhost:8080/",
          "height": 287
        }
      },
      "execution_count": 186,
      "outputs": [
        {
          "output_type": "display_data",
          "data": {
            "text/plain": [
              "<Figure size 432x288 with 1 Axes>"
            ],
            "image/png": "[encoded data removed]"
          },
          "metadata": {}
        }
      ]
    },
    {
      "cell_type": "code",
      "source": [
        "countGraduate = len(df[df.Education == 'Graduate'])\n",
        "countNotGraduate = len(df[df.Education == 'Not Graduate'])\n",
        "countNull = len(df[df.Education.isnull()])\n",
        "\n",
        "print(\"Percentage of graduate applicant: {:.2f}%\".format((countGraduate / (len(df.Education))*100)))\n",
        "print(\"Percentage of Not graduate applicant: {:.2f}%\".format((countNotGraduate / (len(df.Education))*100)))\n",
        "print(\"Missing values percentage: {:.2f}%\".format((countNull / (len(df.Education))*100)))"
      ],
      "metadata": {
        "id": "KswArAwgphLx",
        "outputId": "6baf783f-bda1-477d-aaee-36234e9fc403",
        "execution": {
          "iopub.status.busy": "2022-03-08T02:28:37.646233Z",
          "iopub.execute_input": "2022-03-08T02:28:37.646741Z",
          "iopub.status.idle": "2022-03-08T02:28:37.659860Z",
          "shell.execute_reply.started": "2022-03-08T02:28:37.646693Z",
          "shell.execute_reply": "2022-03-08T02:28:37.658931Z"
        },
        "trusted": true,
        "colab": {
          "base_uri": "https://localhost:8080/",
          "height": 0
        }
      },
      "execution_count": 187,
      "outputs": [
        {
          "output_type": "stream",
          "name": "stdout",
          "text": [
            "Percentage of graduate applicant: 78.18%\n",
            "Percentage of Not graduate applicant: 21.82%\n",
            "Missing values percentage: 0.00%\n"
          ]
        }
      ]
    },
    {
      "cell_type": "markdown",
      "source": [
        "The number of applicants that has been graduated is higher compared to applicants that hasn't graduated."
      ],
      "metadata": {
        "id": "wa2PIxQ_l3Ww"
      }
    },
    {
      "cell_type": "markdown",
      "source": [
        "###1.5 Self Employed"
      ],
      "metadata": {
        "id": "35SS19AbmYMQ"
      }
    },
    {
      "cell_type": "code",
      "source": [
        "df.Self_Employed.value_counts(dropna=False)"
      ],
      "metadata": {
        "id": "_SkU0fcVmYMY",
        "outputId": "a0e752b3-6e79-4b11-cf2a-88172635c436",
        "execution": {
          "iopub.status.busy": "2022-03-08T02:28:37.663498Z",
          "iopub.execute_input": "2022-03-08T02:28:37.663898Z",
          "iopub.status.idle": "2022-03-08T02:28:37.675867Z",
          "shell.execute_reply.started": "2022-03-08T02:28:37.663859Z",
          "shell.execute_reply": "2022-03-08T02:28:37.674931Z"
        },
        "trusted": true,
        "colab": {
          "base_uri": "https://localhost:8080/",
          "height": 0
        }
      },
      "execution_count": 188,
      "outputs": [
        {
          "output_type": "execute_result",
          "data": {
            "text/plain": [
              "No     500\n",
              "Yes     82\n",
              "NaN     32\n",
              "Name: Self_Employed, dtype: int64"
            ]
          },
          "metadata": {},
          "execution_count": 188
        }
      ]
    },
    {
      "cell_type": "code",
      "source": [
        "sns.countplot(x=\"Self_Employed\", data=df, palette=\"crest\")\n",
        "plt.show()"
      ],
      "metadata": {
        "id": "BMr-wTlFmYMZ",
        "outputId": "0a5bf211-83aa-4e13-dcb2-0dc62ee6b26c",
        "execution": {
          "iopub.status.busy": "2022-03-08T02:28:37.677014Z",
          "iopub.execute_input": "2022-03-08T02:28:37.677245Z",
          "iopub.status.idle": "2022-03-08T02:28:37.792117Z",
          "shell.execute_reply.started": "2022-03-08T02:28:37.677219Z",
          "shell.execute_reply": "2022-03-08T02:28:37.791100Z"
        },
        "trusted": true,
        "colab": {
          "base_uri": "https://localhost:8080/",
          "height": 285
        }
      },
      "execution_count": 189,
      "outputs": [
        {
          "output_type": "display_data",
          "data": {
            "text/plain": [
              "<Figure size 432x288 with 1 Axes>"
            ],
            "image/png": "[encoded data removed]"
          },
          "metadata": {}
        }
      ]
    },
    {
      "cell_type": "code",
      "source": [
        "countNo = len(df[df.Self_Employed == 'No'])\n",
        "countYes = len(df[df.Self_Employed == 'Yes'])\n",
        "countNull = len(df[df.Self_Employed.isnull()])\n",
        "\n",
        "print(\"Percentage of Not self employed: {:.2f}%\".format((countNo / (len(df.Self_Employed))*100)))\n",
        "print(\"Percentage of self employed: {:.2f}%\".format((countYes / (len(df.Self_Employed))*100)))\n",
        "print(\"Missing values percentage: {:.2f}%\".format((countNull / (len(df.Self_Employed))*100)))"
      ],
      "metadata": {
        "id": "EaJS6E0Xp1AT",
        "outputId": "ccd35007-ab95-4518-cb9d-7b734d198664",
        "execution": {
          "iopub.status.busy": "2022-03-08T02:28:37.794114Z",
          "iopub.execute_input": "2022-03-08T02:28:37.794739Z",
          "iopub.status.idle": "2022-03-08T02:28:37.810051Z",
          "shell.execute_reply.started": "2022-03-08T02:28:37.794683Z",
          "shell.execute_reply": "2022-03-08T02:28:37.808801Z"
        },
        "trusted": true,
        "colab": {
          "base_uri": "https://localhost:8080/",
          "height": 0
        }
      },
      "execution_count": 190,
      "outputs": [
        {
          "output_type": "stream",
          "name": "stdout",
          "text": [
            "Percentage of Not self employed: 81.43%\n",
            "Percentage of self employed: 13.36%\n",
            "Missing values percentage: 5.21%\n"
          ]
        }
      ]
    },
    {
      "cell_type": "markdown",
      "source": [
        "### 4.1.6 Credit History"
      ],
      "metadata": {
        "id": "sn4zWF8-njF5"
      }
    },
    {
      "cell_type": "code",
      "source": [
        "df.Credit_History.value_counts(dropna=False)"
      ],
      "metadata": {
        "id": "KtdDjo95njGA",
        "outputId": "8987208e-9548-4e80-977b-daede9a8c39c",
        "execution": {
          "iopub.status.busy": "2022-03-08T02:28:37.812424Z",
          "iopub.execute_input": "2022-03-08T02:28:37.813008Z",
          "iopub.status.idle": "2022-03-08T02:28:37.827535Z",
          "shell.execute_reply.started": "2022-03-08T02:28:37.812958Z",
          "shell.execute_reply": "2022-03-08T02:28:37.826151Z"
        },
        "trusted": true,
        "colab": {
          "base_uri": "https://localhost:8080/",
          "height": 0
        }
      },
      "execution_count": 191,
      "outputs": [
        {
          "output_type": "execute_result",
          "data": {
            "text/plain": [
              "1.0    475\n",
              "0.0     89\n",
              "NaN     50\n",
              "Name: Credit_History, dtype: int64"
            ]
          },
          "metadata": {},
          "execution_count": 191
        }
      ]
    },
    {
      "cell_type": "code",
      "source": [
        "sns.countplot(x=\"Credit_History\", data=df, palette=\"viridis\")\n",
        "plt.show()"
      ],
      "metadata": {
        "id": "VmNGGD6onjGB",
        "outputId": "2e9c0d23-1ca9-44ff-e7a3-929279325fa8",
        "execution": {
          "iopub.status.busy": "2022-03-08T02:28:37.830257Z",
          "iopub.execute_input": "2022-03-08T02:28:37.831054Z",
          "iopub.status.idle": "2022-03-08T02:28:37.988441Z",
          "shell.execute_reply.started": "2022-03-08T02:28:37.830988Z",
          "shell.execute_reply": "2022-03-08T02:28:37.987767Z"
        },
        "trusted": true,
        "colab": {
          "base_uri": "https://localhost:8080/",
          "height": 285
        }
      },
      "execution_count": 192,
      "outputs": [
        {
          "output_type": "display_data",
          "data": {
            "text/plain": [
              "<Figure size 432x288 with 1 Axes>"
            ],
            "image/png": "[encoded data removed]"
          },
          "metadata": {}
        }
      ]
    },
    {
      "cell_type": "code",
      "source": [
        "count1 = len(df[df.Credit_History == 1])\n",
        "count0 = len(df[df.Credit_History == 0])\n",
        "countNull = len(df[df.Credit_History.isnull()])\n",
        "\n",
        "print(\"Percentage of Good credit history: {:.2f}%\".format((count1 / (len(df.Credit_History))*100)))\n",
        "print(\"Percentage of Bad credit history: {:.2f}%\".format((count0 / (len(df.Credit_History))*100)))\n",
        "print(\"Missing values percentage: {:.2f}%\".format((countNull / (len(df.Credit_History))*100)))"
      ],
      "metadata": {
        "id": "WdkcsU8vqK8Y",
        "outputId": "325e2af0-6454-496e-c958-329e01ee59c1",
        "execution": {
          "iopub.status.busy": "2022-03-08T02:28:37.989844Z",
          "iopub.execute_input": "2022-03-08T02:28:37.990354Z",
          "iopub.status.idle": "2022-03-08T02:28:38.001778Z",
          "shell.execute_reply.started": "2022-03-08T02:28:37.990308Z",
          "shell.execute_reply": "2022-03-08T02:28:38.000577Z"
        },
        "trusted": true,
        "colab": {
          "base_uri": "https://localhost:8080/",
          "height": 0
        }
      },
      "execution_count": 193,
      "outputs": [
        {
          "output_type": "stream",
          "name": "stdout",
          "text": [
            "Percentage of Good credit history: 77.36%\n",
            "Percentage of Bad credit history: 14.50%\n",
            "Missing values percentage: 8.14%\n"
          ]
        }
      ]
    },
    {
      "cell_type": "markdown",
      "source": [
        "### 4.1.7 Property Area"
      ],
      "metadata": {
        "id": "vITK924Anjnn"
      }
    },
    {
      "cell_type": "code",
      "source": [
        "df.Property_Area.value_counts(dropna=False)"
      ],
      "metadata": {
        "id": "i4o2LfJ2njnn",
        "outputId": "fde197fa-a0c5-4728-85e0-694ecb165157",
        "execution": {
          "iopub.status.busy": "2022-03-08T02:28:38.003291Z",
          "iopub.execute_input": "2022-03-08T02:28:38.003745Z",
          "iopub.status.idle": "2022-03-08T02:28:38.023708Z",
          "shell.execute_reply.started": "2022-03-08T02:28:38.003708Z",
          "shell.execute_reply": "2022-03-08T02:28:38.022809Z"
        },
        "trusted": true,
        "colab": {
          "base_uri": "https://localhost:8080/",
          "height": 0
        }
      },
      "execution_count": 194,
      "outputs": [
        {
          "output_type": "execute_result",
          "data": {
            "text/plain": [
              "Semiurban    233\n",
              "Urban        202\n",
              "Rural        179\n",
              "Name: Property_Area, dtype: int64"
            ]
          },
          "metadata": {},
          "execution_count": 194
        }
      ]
    },
    {
      "cell_type": "code",
      "source": [
        "sns.countplot(x=\"Property_Area\", data=df, palette=\"cubehelix\")\n",
        "plt.show()"
      ],
      "metadata": {
        "id": "29S5dnm6njnn",
        "outputId": "2d0fb2c0-5c98-40f9-f32c-aae70843eed2",
        "execution": {
          "iopub.status.busy": "2022-03-08T02:28:38.025000Z",
          "iopub.execute_input": "2022-03-08T02:28:38.025747Z",
          "iopub.status.idle": "2022-03-08T02:28:38.195693Z",
          "shell.execute_reply.started": "2022-03-08T02:28:38.025711Z",
          "shell.execute_reply": "2022-03-08T02:28:38.194766Z"
        },
        "trusted": true,
        "colab": {
          "base_uri": "https://localhost:8080/",
          "height": 285
        }
      },
      "execution_count": 195,
      "outputs": [
        {
          "output_type": "display_data",
          "data": {
            "text/plain": [
              "<Figure size 432x288 with 1 Axes>"
            ],
            "image/png": "[encoded data removed]"
          },
          "metadata": {}
        }
      ]
    },
    {
      "cell_type": "code",
      "source": [
        "countUrban = len(df[df.Property_Area == 'Urban'])\n",
        "countRural = len(df[df.Property_Area == 'Rural'])\n",
        "countSemiurban = len(df[df.Property_Area == 'Semiurban'])\n",
        "countNull = len(df[df.Property_Area.isnull()])\n",
        "\n",
        "print(\"Percentage of Urban: {:.2f}%\".format((countUrban / (len(df.Property_Area))*100)))\n",
        "print(\"Percentage of Rural: {:.2f}%\".format((countRural / (len(df.Property_Area))*100)))\n",
        "print(\"Percentage of Semiurban: {:.2f}%\".format((countSemiurban / (len(df.Property_Area))*100)))\n",
        "print(\"Missing values percentage: {:.2f}%\".format((countNull / (len(df.Property_Area))*100)))"
      ],
      "metadata": {
        "id": "XoksMSh9raU_",
        "outputId": "2c6c07fb-3241-4b46-b398-1f4e56aa02c1",
        "execution": {
          "iopub.status.busy": "2022-03-08T02:28:38.196939Z",
          "iopub.execute_input": "2022-03-08T02:28:38.197630Z",
          "iopub.status.idle": "2022-03-08T02:28:38.208489Z",
          "shell.execute_reply.started": "2022-03-08T02:28:38.197593Z",
          "shell.execute_reply": "2022-03-08T02:28:38.207717Z"
        },
        "trusted": true,
        "colab": {
          "base_uri": "https://localhost:8080/",
          "height": 0
        }
      },
      "execution_count": 196,
      "outputs": [
        {
          "output_type": "stream",
          "name": "stdout",
          "text": [
            "Percentage of Urban: 32.90%\n",
            "Percentage of Rural: 29.15%\n",
            "Percentage of Semiurban: 37.95%\n",
            "Missing values percentage: 0.00%\n"
          ]
        }
      ]
    },
    {
      "cell_type": "markdown",
      "source": [
        "### 4.1.8 Loan Status"
      ],
      "metadata": {
        "id": "sq3-SZScnkCQ"
      }
    },
    {
      "cell_type": "code",
      "source": [
        "df.Loan_Status.value_counts(dropna=False)"
      ],
      "metadata": {
        "id": "wiumstnCnkCQ",
        "outputId": "bed959d5-bdf9-4eef-d013-2aba6288558b",
        "execution": {
          "iopub.status.busy": "2022-03-08T02:28:38.209709Z",
          "iopub.execute_input": "2022-03-08T02:28:38.210271Z",
          "iopub.status.idle": "2022-03-08T02:28:38.223124Z",
          "shell.execute_reply.started": "2022-03-08T02:28:38.210225Z",
          "shell.execute_reply": "2022-03-08T02:28:38.222216Z"
        },
        "trusted": true,
        "colab": {
          "base_uri": "https://localhost:8080/",
          "height": 0
        }
      },
      "execution_count": 197,
      "outputs": [
        {
          "output_type": "execute_result",
          "data": {
            "text/plain": [
              "Y    422\n",
              "N    192\n",
              "Name: Loan_Status, dtype: int64"
            ]
          },
          "metadata": {},
          "execution_count": 197
        }
      ]
    },
    {
      "cell_type": "code",
      "source": [
        "sns.countplot(x=\"Loan_Status\", data=df, palette=\"YlOrBr\")\n",
        "plt.show()"
      ],
      "metadata": {
        "id": "uu0vT0SvnkCR",
        "outputId": "8d333645-0877-47d7-f733-6fd5971f04d8",
        "execution": {
          "iopub.status.busy": "2022-03-08T02:28:38.226475Z",
          "iopub.execute_input": "2022-03-08T02:28:38.226848Z",
          "iopub.status.idle": "2022-03-08T02:28:38.398985Z",
          "shell.execute_reply.started": "2022-03-08T02:28:38.226800Z",
          "shell.execute_reply": "2022-03-08T02:28:38.398197Z"
        },
        "trusted": true,
        "colab": {
          "base_uri": "https://localhost:8080/",
          "height": 285
        }
      },
      "execution_count": 198,
      "outputs": [
        {
          "output_type": "display_data",
          "data": {
            "text/plain": [
              "<Figure size 432x288 with 1 Axes>"
            ],
            "image/png": "[encoded data removed]"
          },
          "metadata": {}
        }
      ]
    },
    {
      "cell_type": "code",
      "source": [
        "countY = len(df[df.Loan_Status == 'Y'])\n",
        "countN = len(df[df.Loan_Status == 'N'])\n",
        "countNull = len(df[df.Loan_Status.isnull()])\n",
        "\n",
        "print(\"Percentage of Approved: {:.2f}%\".format((countY / (len(df.Loan_Status))*100)))\n",
        "print(\"Percentage of Rejected: {:.2f}%\".format((countN / (len(df.Loan_Status))*100)))\n",
        "print(\"Missing values percentage: {:.2f}%\".format((countNull / (len(df.Loan_Status))*100)))"
      ],
      "metadata": {
        "id": "nicivzzRsqZe",
        "outputId": "e86a0156-86eb-4744-ef9d-e0e6d479c20f",
        "execution": {
          "iopub.status.busy": "2022-03-08T02:28:38.400459Z",
          "iopub.execute_input": "2022-03-08T02:28:38.400737Z",
          "iopub.status.idle": "2022-03-08T02:28:38.413001Z",
          "shell.execute_reply.started": "2022-03-08T02:28:38.400699Z",
          "shell.execute_reply": "2022-03-08T02:28:38.412160Z"
        },
        "trusted": true,
        "colab": {
          "base_uri": "https://localhost:8080/",
          "height": 0
        }
      },
      "execution_count": 199,
      "outputs": [
        {
          "output_type": "stream",
          "name": "stdout",
          "text": [
            "Percentage of Approved: 68.73%\n",
            "Percentage of Rejected: 31.27%\n",
            "Missing values percentage: 0.00%\n"
          ]
        }
      ]
    },
    {
      "cell_type": "markdown",
      "source": [
        "### 4.1.9 Loan Amount Term"
      ],
      "metadata": {
        "id": "uOKvRa2gO_j9"
      }
    },
    {
      "cell_type": "code",
      "source": [
        "df.Loan_Amount_Term.value_counts(dropna=False)"
      ],
      "metadata": {
        "id": "suUA8cOXO_kB",
        "outputId": "89ec9ea1-8fc2-4fcc-dacf-1f501169836f",
        "execution": {
          "iopub.status.busy": "2022-03-08T02:28:38.414623Z",
          "iopub.execute_input": "2022-03-08T02:28:38.415535Z",
          "iopub.status.idle": "2022-03-08T02:28:38.423765Z",
          "shell.execute_reply.started": "2022-03-08T02:28:38.415492Z",
          "shell.execute_reply": "2022-03-08T02:28:38.423033Z"
        },
        "trusted": true,
        "colab": {
          "base_uri": "https://localhost:8080/",
          "height": 0
        }
      },
      "execution_count": 200,
      "outputs": [
        {
          "output_type": "execute_result",
          "data": {
            "text/plain": [
              "360.0    512\n",
              "180.0     44\n",
              "480.0     15\n",
              "NaN       14\n",
              "300.0     13\n",
              "240.0      4\n",
              "84.0       4\n",
              "120.0      3\n",
              "60.0       2\n",
              "36.0       2\n",
              "12.0       1\n",
              "Name: Loan_Amount_Term, dtype: int64"
            ]
          },
          "metadata": {},
          "execution_count": 200
        }
      ]
    },
    {
      "cell_type": "code",
      "source": [
        "sns.countplot(x=\"Loan_Amount_Term\", data=df, palette=\"rocket\")\n",
        "plt.show()"
      ],
      "metadata": {
        "id": "19IBVpnZO_kC",
        "outputId": "744cca62-e3c5-434e-a76c-02ea835ba188",
        "execution": {
          "iopub.status.busy": "2022-03-08T02:28:38.425680Z",
          "iopub.execute_input": "2022-03-08T02:28:38.425945Z",
          "iopub.status.idle": "2022-03-08T02:28:38.638040Z",
          "shell.execute_reply.started": "2022-03-08T02:28:38.425914Z",
          "shell.execute_reply": "2022-03-08T02:28:38.637119Z"
        },
        "trusted": true,
        "colab": {
          "base_uri": "https://localhost:8080/",
          "height": 285
        }
      },
      "execution_count": 201,
      "outputs": [
        {
          "output_type": "display_data",
          "data": {
            "text/plain": [
              "<Figure size 432x288 with 1 Axes>"
            ],
            "image/png": "[encoded data removed]"
          },
          "metadata": {}
        }
      ]
    },
    {
      "cell_type": "code",
      "source": [
        "count12 = len(df[df.Loan_Amount_Term == 12.0])\n",
        "count36 = len(df[df.Loan_Amount_Term == 36.0])\n",
        "count60 = len(df[df.Loan_Amount_Term == 60.0])\n",
        "count84 = len(df[df.Loan_Amount_Term == 84.0])\n",
        "count120 = len(df[df.Loan_Amount_Term == 120.0])\n",
        "count180 = len(df[df.Loan_Amount_Term == 180.0])\n",
        "count240 = len(df[df.Loan_Amount_Term == 240.0])\n",
        "count300 = len(df[df.Loan_Amount_Term == 300.0])\n",
        "count360 = len(df[df.Loan_Amount_Term == 360.0])\n",
        "count480 = len(df[df.Loan_Amount_Term == 480.0])\n",
        "countNull = len(df[df.Loan_Amount_Term.isnull()])\n",
        "\n",
        "print(\"Percentage of 12: {:.2f}%\".format((count12 / (len(df.Loan_Amount_Term))*100)))\n",
        "print(\"Percentage of 36: {:.2f}%\".format((count36 / (len(df.Loan_Amount_Term))*100)))\n",
        "print(\"Percentage of 60: {:.2f}%\".format((count60 / (len(df.Loan_Amount_Term))*100)))\n",
        "print(\"Percentage of 84: {:.2f}%\".format((count84 / (len(df.Loan_Amount_Term))*100)))\n",
        "print(\"Percentage of 120: {:.2f}%\".format((count120 / (len(df.Loan_Amount_Term))*100)))\n",
        "print(\"Percentage of 180: {:.2f}%\".format((count180 / (len(df.Loan_Amount_Term))*100)))\n",
        "print(\"Percentage of 240: {:.2f}%\".format((count240 / (len(df.Loan_Amount_Term))*100)))\n",
        "print(\"Percentage of 300: {:.2f}%\".format((count300 / (len(df.Loan_Amount_Term))*100)))\n",
        "print(\"Percentage of 360: {:.2f}%\".format((count360 / (len(df.Loan_Amount_Term))*100)))\n",
        "print(\"Percentage of 480: {:.2f}%\".format((count480 / (len(df.Loan_Amount_Term))*100)))\n",
        "print(\"Missing values percentage: {:.2f}%\".format((countNull / (len(df.Loan_Amount_Term))*100)))"
      ],
      "metadata": {
        "id": "4I7KGiUiO_kC",
        "outputId": "b33c8dfc-bee4-4a65-890c-88419feadccd",
        "execution": {
          "iopub.status.busy": "2022-03-08T02:28:38.639601Z",
          "iopub.execute_input": "2022-03-08T02:28:38.639860Z",
          "iopub.status.idle": "2022-03-08T02:28:38.661394Z",
          "shell.execute_reply.started": "2022-03-08T02:28:38.639828Z",
          "shell.execute_reply": "2022-03-08T02:28:38.660356Z"
        },
        "trusted": true,
        "colab": {
          "base_uri": "https://localhost:8080/",
          "height": 0
        }
      },
      "execution_count": 202,
      "outputs": [
        {
          "output_type": "stream",
          "name": "stdout",
          "text": [
            "Percentage of 12: 0.16%\n",
            "Percentage of 36: 0.33%\n",
            "Percentage of 60: 0.33%\n",
            "Percentage of 84: 0.65%\n",
            "Percentage of 120: 0.49%\n",
            "Percentage of 180: 7.17%\n",
            "Percentage of 240: 0.65%\n",
            "Percentage of 300: 2.12%\n",
            "Percentage of 360: 83.39%\n",
            "Percentage of 480: 2.44%\n",
            "Missing values percentage: 2.28%\n"
          ]
        }
      ]
    },
    {
      "cell_type": "code",
      "source": [
        "df[['ApplicantIncome','CoapplicantIncome','LoanAmount']].describe()"
      ],
      "metadata": {
        "id": "JYmOMnqitb6s",
        "outputId": "34aee9be-9ee5-42af-de27-e6e923d2a99f",
        "execution": {
          "iopub.status.busy": "2022-03-08T02:28:38.662874Z",
          "iopub.execute_input": "2022-03-08T02:28:38.663260Z",
          "iopub.status.idle": "2022-03-08T02:28:38.688764Z",
          "shell.execute_reply.started": "2022-03-08T02:28:38.663205Z",
          "shell.execute_reply": "2022-03-08T02:28:38.688190Z"
        },
        "trusted": true,
        "colab": {
          "base_uri": "https://localhost:8080/",
          "height": 300
        }
      },
      "execution_count": 203,
      "outputs": [
        {
          "output_type": "execute_result",
          "data": {
            "text/plain": [
              "       ApplicantIncome  CoapplicantIncome  LoanAmount\n",
              "count       614.000000         614.000000  592.000000\n",
              "mean       5403.459283        1621.245798  146.412162\n",
              "std        6109.041673        2926.248369   85.587325\n",
              "min         150.000000           0.000000    9.000000\n",
              "25%        2877.500000           0.000000  100.000000\n",
              "50%        3812.500000        1188.500000  128.000000\n",
              "75%        5795.000000        2297.250000  168.000000\n",
              "max       81000.000000       41667.000000  700.000000"
            ],
            "text/html": [
              "\n",
              "  <div id=\"df-ab4daeae-a75c-46fb-8a18-1b8b4e790524\">\n",
              "    <div class=\"colab-df-container\">\n",
              "      <div>\n",
              "<style scoped>\n",
              "    .dataframe tbody tr th:only-of-type {\n",
              "        vertical-align: middle;\n",
              "    }\n",
              "\n",
              "    .dataframe tbody tr th {\n",
              "        vertical-align: top;\n",
              "    }\n",
              "\n",
              "    .dataframe thead th {\n",
              "        text-align: right;\n",
              "    }\n",
              "</style>\n",
              "<table border=\"1\" class=\"dataframe\">\n",
              "  <thead>\n",
              "    <tr style=\"text-align: right;\">\n",
              "      <th></th>\n",
              "      <th>ApplicantIncome</th>\n",
              "      <th>CoapplicantIncome</th>\n",
              "      <th>LoanAmount</th>\n",
              "    </tr>\n",
              "  </thead>\n",
              "  <tbody>\n",
              "    <tr>\n",
              "      <th>count</th>\n",
              "      <td>614.000000</td>\n",
              "      <td>614.000000</td>\n",
              "      <td>592.000000</td>\n",
              "    </tr>\n",
              "    <tr>\n",
              "      <th>mean</th>\n",
              "      <td>5403.459283</td>\n",
              "      <td>1621.245798</td>\n",
              "      <td>146.412162</td>\n",
              "    </tr>\n",
              "    <tr>\n",
              "      <th>std</th>\n",
              "      <td>6109.041673</td>\n",
              "      <td>2926.248369</td>\n",
              "      <td>85.587325</td>\n",
              "    </tr>\n",
              "    <tr>\n",
              "      <th>min</th>\n",
              "      <td>150.000000</td>\n",
              "      <td>0.000000</td>\n",
              "      <td>9.000000</td>\n",
              "    </tr>\n",
              "    <tr>\n",
              "      <th>25%</th>\n",
              "      <td>2877.500000</td>\n",
              "      <td>0.000000</td>\n",
              "      <td>100.000000</td>\n",
              "    </tr>\n",
              "    <tr>\n",
              "      <th>50%</th>\n",
              "      <td>3812.500000</td>\n",
              "      <td>1188.500000</td>\n",
              "      <td>128.000000</td>\n",
              "    </tr>\n",
              "    <tr>\n",
              "      <th>75%</th>\n",
              "      <td>5795.000000</td>\n",
              "      <td>2297.250000</td>\n",
              "      <td>168.000000</td>\n",
              "    </tr>\n",
              "    <tr>\n",
              "      <th>max</th>\n",
              "      <td>81000.000000</td>\n",
              "      <td>41667.000000</td>\n",
              "      <td>700.000000</td>\n",
              "    </tr>\n",
              "  </tbody>\n",
              "</table>\n",
              "</div>\n",
              "      <button class=\"colab-df-convert\" onclick=\"convertToInteractive('df-ab4daeae-a75c-46fb-8a18-1b8b4e790524')\"\n",
              "              title=\"Convert this dataframe to an interactive table.\"\n",
              "              style=\"display:none;\">\n",
              "        \n",
              "  <svg xmlns=\"http://www.w3.org/2000/svg\" height=\"24px\"viewBox=\"0 0 24 24\"\n",
              "       width=\"24px\">\n",
              "    <path d=\"M0 0h24v24H0V0z\" fill=\"none\"/>\n",
              "    <path d=\"M18.56 5.44l.94 2.06.94-2.06 2.06-.94-2.06-.94-.94-2.06-.94 2.06-2.06.94zm-11 1L8.5 8.5l.94-2.06 2.06-.94-2.06-.94L8.5 2.5l-.94 2.06-2.06.94zm10 10l.94 2.06.94-2.06 2.06-.94-2.06-.94-.94-2.06-.94 2.06-2.06.94z\"/><path d=\"M17.41 7.96l-1.37-1.37c-.4-.4-.92-.59-1.43-.59-.52 0-1.04.2-1.43.59L10.3 9.45l-7.72 7.72c-.78.78-.78 2.05 0 2.83L4 21.41c.39.39.9.59 1.41.59.51 0 1.02-.2 1.41-.59l7.78-7.78 2.81-2.81c.8-.78.8-2.07 0-2.86zM5.41 20L4 18.59l7.72-7.72 1.47 1.35L5.41 20z\"/>\n",
              "  </svg>\n",
              "      </button>\n",
              "      \n",
              "  <style>\n",
              "    .colab-df-container {\n",
              "      display:flex;\n",
              "      flex-wrap:wrap;\n",
              "      gap: 12px;\n",
              "    }\n",
              "\n",
              "    .colab-df-convert {\n",
              "      background-color: #E8F0FE;\n",
              "      border: none;\n",
              "      border-radius: 50%;\n",
              "      cursor: pointer;\n",
              "      display: none;\n",
              "      fill: #1967D2;\n",
              "      height: 32px;\n",
              "      padding: 0 0 0 0;\n",
              "      width: 32px;\n",
              "    }\n",
              "\n",
              "    .colab-df-convert:hover {\n",
              "      background-color: #E2EBFA;\n",
              "      box-shadow: 0px 1px 2px rgba(60, 64, 67, 0.3), 0px 1px 3px 1px rgba(60, 64, 67, 0.15);\n",
              "      fill: #174EA6;\n",
              "    }\n",
              "\n",
              "    [theme=dark] .colab-df-convert {\n",
              "      background-color: #3B4455;\n",
              "      fill: #D2E3FC;\n",
              "    }\n",
              "\n",
              "    [theme=dark] .colab-df-convert:hover {\n",
              "      background-color: #434B5C;\n",
              "      box-shadow: 0px 1px 3px 1px rgba(0, 0, 0, 0.15);\n",
              "      filter: drop-shadow(0px 1px 2px rgba(0, 0, 0, 0.3));\n",
              "      fill: #FFFFFF;\n",
              "    }\n",
              "  </style>\n",
              "\n",
              "      <script>\n",
              "        const buttonEl =\n",
              "          document.querySelector('#df-ab4daeae-a75c-46fb-8a18-1b8b4e790524 button.colab-df-convert');\n",
              "        buttonEl.style.display =\n",
              "          google.colab.kernel.accessAllowed ? 'block' : 'none';\n",
              "\n",
              "        async function convertToInteractive(key) {\n",
              "          const element = document.querySelector('#df-ab4daeae-a75c-46fb-8a18-1b8b4e790524');\n",
              "          const dataTable =\n",
              "            await google.colab.kernel.invokeFunction('convertToInteractive',\n",
              "                                                     [key], {});\n",
              "          if (!dataTable) return;\n",
              "\n",
              "          const docLinkHtml = 'Like what you see? Visit the ' +\n",
              "            '<a target=\"_blank\" href=https://colab.research.google.com/notebooks/data_table.ipynb>data table notebook</a>'\n",
              "            + ' to learn more about interactive tables.';\n",
              "          element.innerHTML = '';\n",
              "          dataTable['output_type'] = 'display_data';\n",
              "          await google.colab.output.renderOutput(dataTable, element);\n",
              "          const docLink = document.createElement('div');\n",
              "          docLink.innerHTML = docLinkHtml;\n",
              "          element.appendChild(docLink);\n",
              "        }\n",
              "      </script>\n",
              "    </div>\n",
              "  </div>\n",
              "  "
            ]
          },
          "metadata": {},
          "execution_count": 203
        }
      ]
    },
    {
      "cell_type": "markdown",
      "source": [
        "#### 4.2.2.1 Histogram Distribution "
      ],
      "metadata": {
        "id": "26oBuCCFRHdt"
      }
    },
    {
      "cell_type": "code",
      "source": [
        "sns.set(style=\"darkgrid\")\n",
        "fig, axs = plt.subplots(2, 2, figsize=(10, 8))\n",
        "\n",
        "sns.histplot(data=df, x=\"ApplicantIncome\", kde=True, ax=axs[0, 0], color='green')\n",
        "sns.histplot(data=df, x=\"CoapplicantIncome\", kde=True, ax=axs[0, 1], color='skyblue')\n",
        "sns.histplot(data=df, x=\"LoanAmount\", kde=True, ax=axs[1, 0], color='orange');"
      ],
      "metadata": {
        "id": "nNQVNECjOV_R",
        "outputId": "b951d3d5-c364-45aa-dce9-33f1944dea88",
        "execution": {
          "iopub.status.busy": "2022-03-08T02:28:38.689878Z",
          "iopub.execute_input": "2022-03-08T02:28:38.690671Z",
          "iopub.status.idle": "2022-03-08T02:28:39.971075Z",
          "shell.execute_reply.started": "2022-03-08T02:28:38.690634Z",
          "shell.execute_reply": "2022-03-08T02:28:39.970078Z"
        },
        "trusted": true,
        "colab": {
          "base_uri": "https://localhost:8080/",
          "height": 505
        }
      },
      "execution_count": 204,
      "outputs": [
        {
          "output_type": "display_data",
          "data": {
            "text/plain": [
              "<Figure size 720x576 with 4 Axes>"
            ],
            "image/png": "[encoded data removed]"
          },
          "metadata": {}
        }
      ]
    },
    {
      "cell_type": "markdown",
      "source": [
        "#### 4.2.2.2 Violin Plot 🎻"
      ],
      "metadata": {
        "id": "Wm-uWGyORLEh"
      }
    },
    {
      "cell_type": "code",
      "source": [
        "sns.set(style=\"darkgrid\")\n",
        "fig, axs1 = plt.subplots(2, 2, figsize=(10, 10))\n",
        "\n",
        "sns.violinplot(data=df, y=\"ApplicantIncome\", ax=axs1[0, 0], color='green')\n",
        "sns.violinplot(data=df, y=\"CoapplicantIncome\", ax=axs1[0, 1], color='skyblue')\n",
        "sns.violinplot(data=df, y=\"LoanAmount\", ax=axs1[1, 0], color='orange');"
      ],
      "metadata": {
        "id": "bqcMEGfUQDTM",
        "outputId": "47eb7158-8b54-4bca-c43a-89a23535f1aa",
        "execution": {
          "iopub.status.busy": "2022-03-08T02:28:39.972416Z",
          "iopub.execute_input": "2022-03-08T02:28:39.973102Z",
          "iopub.status.idle": "2022-03-08T02:28:40.810081Z",
          "shell.execute_reply.started": "2022-03-08T02:28:39.973059Z",
          "shell.execute_reply": "2022-03-08T02:28:40.809237Z"
        },
        "trusted": true,
        "colab": {
          "base_uri": "https://localhost:8080/",
          "height": 594
        }
      },
      "execution_count": 205,
      "outputs": [
        {
          "output_type": "display_data",
          "data": {
            "text/plain": [
              "<Figure size 720x720 with 4 Axes>"
            ],
            "image/png": "[encoded data removed]"
          },
          "metadata": {}
        }
      ]
    },
    {
      "cell_type": "code",
      "source": [
        "plt.figure(figsize=(10,7))\n",
        "sns.heatmap(df.corr(), annot=True, cmap='inferno');"
      ],
      "metadata": {
        "id": "eCrq4rn7XxTt",
        "outputId": "a9d6441e-df74-425f-98f8-b99f9eb1484c",
        "execution": {
          "iopub.status.busy": "2022-03-08T02:28:40.811534Z",
          "iopub.execute_input": "2022-03-08T02:28:40.812203Z",
          "iopub.status.idle": "2022-03-08T02:28:41.231396Z",
          "shell.execute_reply.started": "2022-03-08T02:28:40.812149Z",
          "shell.execute_reply": "2022-03-08T02:28:41.230423Z"
        },
        "trusted": true,
        "colab": {
          "base_uri": "https://localhost:8080/",
          "height": 532
        }
      },
      "execution_count": 206,
      "outputs": [
        {
          "output_type": "display_data",
          "data": {
            "text/plain": [
              "<Figure size 720x504 with 2 Axes>"
            ],
            "image/png": "[encoded data removed]"
          },
          "metadata": {}
        }
      ]
    },
    {
      "cell_type": "markdown",
      "source": [
        "### 4.3.2 Categorical 📊 - Categorical 📊"
      ],
      "metadata": {
        "id": "IOm0V24oYyQb"
      }
    },
    {
      "cell_type": "code",
      "source": [
        "pd.crosstab(df.Gender,df.Married).plot(kind=\"bar\", stacked=True, figsize=(5,5), color=['#f64f59','#12c2e9'])\n",
        "plt.title('Gender vs Married')\n",
        "plt.xlabel('Gender')\n",
        "plt.ylabel('Frequency')\n",
        "plt.xticks(rotation=0)\n",
        "plt.show()"
      ],
      "metadata": {
        "id": "sO2zNOYmYxkt",
        "outputId": "615336b5-563a-49f3-9877-7d0f360ebca7",
        "execution": {
          "iopub.status.busy": "2022-03-08T02:28:41.233063Z",
          "iopub.execute_input": "2022-03-08T02:28:41.233342Z",
          "iopub.status.idle": "2022-03-08T02:28:41.480179Z",
          "shell.execute_reply.started": "2022-03-08T02:28:41.233312Z",
          "shell.execute_reply": "2022-03-08T02:28:41.479096Z"
        },
        "trusted": true,
        "colab": {
          "base_uri": "https://localhost:8080/",
          "height": 355
        }
      },
      "execution_count": 207,
      "outputs": [
        {
          "output_type": "display_data",
          "data": {
            "text/plain": [
              "<Figure size 360x360 with 1 Axes>"
            ],
            "image/png": "[encoded data removed]"
          },
          "metadata": {}
        }
      ]
    },
    {
      "cell_type": "code",
      "source": [
        "pd.crosstab(df.Self_Employed,df.Credit_History).plot(kind=\"bar\", stacked=True, figsize=(5,5), color=['#544a7d','#ffd452'])\n",
        "plt.title('Self Employed vs Credit History')\n",
        "plt.xlabel('Self Employed')\n",
        "plt.ylabel('Frequency')\n",
        "plt.legend([\"Bad Credit\", \"Good Credit\"])\n",
        "plt.xticks(rotation=0)\n",
        "plt.show()"
      ],
      "metadata": {
        "id": "Qkge_XadbuLA",
        "outputId": "bc848a38-8651-4838-e807-dab2a270e80a",
        "execution": {
          "iopub.status.busy": "2022-03-08T02:28:41.481434Z",
          "iopub.execute_input": "2022-03-08T02:28:41.481676Z",
          "iopub.status.idle": "2022-03-08T02:28:41.707093Z",
          "shell.execute_reply.started": "2022-03-08T02:28:41.481646Z",
          "shell.execute_reply": "2022-03-08T02:28:41.706420Z"
        },
        "trusted": true,
        "colab": {
          "base_uri": "https://localhost:8080/",
          "height": 355
        }
      },
      "execution_count": 208,
      "outputs": [
        {
          "output_type": "display_data",
          "data": {
            "text/plain": [
              "<Figure size 360x360 with 1 Axes>"
            ],
            "image/png": "[encoded data removed]"
          },
          "metadata": {}
        }
      ]
    },
    {
      "cell_type": "code",
      "source": [
        "pd.crosstab(df.Property_Area,df.Loan_Status).plot(kind=\"bar\", stacked=True, figsize=(5,5), color=['#333333','#dd1818'])\n",
        "plt.title('Property Area vs Loan Status')\n",
        "plt.xlabel('Property Area')\n",
        "plt.ylabel('Frequency')\n",
        "plt.xticks(rotation=0)\n",
        "plt.show()"
      ],
      "metadata": {
        "id": "p1ztJv3wcyRA",
        "outputId": "b9570bd5-55d9-4ca0-962f-1a986ab1d605",
        "execution": {
          "iopub.status.busy": "2022-03-08T02:28:41.708419Z",
          "iopub.execute_input": "2022-03-08T02:28:41.709163Z",
          "iopub.status.idle": "2022-03-08T02:28:41.960066Z",
          "shell.execute_reply.started": "2022-03-08T02:28:41.709099Z",
          "shell.execute_reply": "2022-03-08T02:28:41.958392Z"
        },
        "trusted": true,
        "colab": {
          "base_uri": "https://localhost:8080/",
          "height": 355
        }
      },
      "execution_count": 209,
      "outputs": [
        {
          "output_type": "display_data",
          "data": {
            "text/plain": [
              "<Figure size 360x360 with 1 Axes>"
            ],
            "image/png": "[encoded data removed]"
          },
          "metadata": {}
        }
      ]
    },
    {
      "cell_type": "code",
      "source": [
        "sns.boxplot(x=\"Loan_Status\", y=\"ApplicantIncome\", data=df, palette=\"mako\");"
      ],
      "metadata": {
        "id": "8KXyIhTWdNoP",
        "outputId": "b233bbc2-10ff-4457-8654-bec86dc63f9e",
        "execution": {
          "iopub.status.busy": "2022-03-08T02:28:41.961863Z",
          "iopub.execute_input": "2022-03-08T02:28:41.962272Z",
          "iopub.status.idle": "2022-03-08T02:28:42.203300Z",
          "shell.execute_reply.started": "2022-03-08T02:28:41.962219Z",
          "shell.execute_reply": "2022-03-08T02:28:42.202422Z"
        },
        "trusted": true,
        "colab": {
          "base_uri": "https://localhost:8080/",
          "height": 285
        }
      },
      "execution_count": 210,
      "outputs": [
        {
          "output_type": "display_data",
          "data": {
            "text/plain": [
              "<Figure size 432x288 with 1 Axes>"
            ],
            "image/png": "[encoded data removed]"
          },
          "metadata": {}
        }
      ]
    },
    {
      "cell_type": "code",
      "source": [
        "sns.boxplot(x=\"CoapplicantIncome\", y=\"Loan_Status\", data=df, palette=\"rocket\");"
      ],
      "metadata": {
        "id": "UQgw9pSSdNgK",
        "outputId": "3dcdd8d1-8604-4a1a-add4-32d573a8bb71",
        "execution": {
          "iopub.status.busy": "2022-03-08T02:28:42.204583Z",
          "iopub.execute_input": "2022-03-08T02:28:42.204811Z",
          "iopub.status.idle": "2022-03-08T02:28:42.444504Z",
          "shell.execute_reply.started": "2022-03-08T02:28:42.204783Z",
          "shell.execute_reply": "2022-03-08T02:28:42.443405Z"
        },
        "trusted": true,
        "colab": {
          "base_uri": "https://localhost:8080/",
          "height": 285
        }
      },
      "execution_count": 211,
      "outputs": [
        {
          "output_type": "display_data",
          "data": {
            "text/plain": [
              "<Figure size 432x288 with 1 Axes>"
            ],
            "image/png": "[encoded data removed]"
          },
          "metadata": {}
        }
      ]
    },
    {
      "cell_type": "code",
      "source": [
        "sns.boxplot(x=\"Loan_Status\", y=\"LoanAmount\", data=df, palette=\"YlOrBr\");"
      ],
      "metadata": {
        "id": "341fyImTdNO9",
        "outputId": "97f77405-0481-490e-cf2c-620975683762",
        "execution": {
          "iopub.status.busy": "2022-03-08T02:28:42.446227Z",
          "iopub.execute_input": "2022-03-08T02:28:42.446574Z",
          "iopub.status.idle": "2022-03-08T02:28:42.668234Z",
          "shell.execute_reply.started": "2022-03-08T02:28:42.446528Z",
          "shell.execute_reply": "2022-03-08T02:28:42.667278Z"
        },
        "trusted": true,
        "colab": {
          "base_uri": "https://localhost:8080/",
          "height": 285
        }
      },
      "execution_count": 212,
      "outputs": [
        {
          "output_type": "display_data",
          "data": {
            "text/plain": [
              "<Figure size 432x288 with 1 Axes>"
            ],
            "image/png": "[encoded data removed]"
          },
          "metadata": {}
        }
      ]
    },
    {
      "cell_type": "markdown",
      "source": [
        "### 4.3.4 Numerical"
      ],
      "metadata": {
        "id": "qwYT4WuSi1BA"
      }
    },
    {
      "cell_type": "code",
      "source": [
        "df.plot(x='ApplicantIncome', y='CoapplicantIncome', style='o')  \n",
        "plt.title('Applicant Income - Co Applicant Income')  \n",
        "plt.xlabel('ApplicantIncome')\n",
        "plt.ylabel('CoapplicantIncome')  \n",
        "plt.show()\n",
        "print('Pearson correlation:', df['ApplicantIncome'].corr(df['CoapplicantIncome']))\n",
        "print('T Test and P value: \\n', stats.ttest_ind(df['ApplicantIncome'], df['CoapplicantIncome']))"
      ],
      "metadata": {
        "id": "xEWeAA3Fi3XJ",
        "outputId": "435d7d58-8fba-4315-d15c-bda97ccc69dc",
        "execution": {
          "iopub.status.busy": "2022-03-08T02:28:42.669691Z",
          "iopub.execute_input": "2022-03-08T02:28:42.669929Z",
          "iopub.status.idle": "2022-03-08T02:28:42.965600Z",
          "shell.execute_reply.started": "2022-03-08T02:28:42.669899Z",
          "shell.execute_reply": "2022-03-08T02:28:42.964525Z"
        },
        "trusted": true,
        "colab": {
          "base_uri": "https://localhost:8080/",
          "height": 353
        }
      },
      "execution_count": 213,
      "outputs": [
        {
          "output_type": "display_data",
          "data": {
            "text/plain": [
              "<Figure size 432x288 with 1 Axes>"
            ],
            "image/png": "[encoded data removed]"
          },
          "metadata": {}
        },
        {
          "output_type": "stream",
          "name": "stdout",
          "text": [
            "Pearson correlation: -0.11660458122889966\n",
            "T Test and P value: \n",
            " Ttest_indResult(statistic=13.835753259915661, pvalue=1.4609839484240346e-40)\n"
          ]
        }
      ]
    },
    {
      "cell_type": "code",
      "source": [
        "df.isnull().sum()"
      ],
      "metadata": {
        "id": "Buorzh0-VVPS",
        "outputId": "a2672eaf-7322-4bc3-861e-940a5073bbbf",
        "execution": {
          "iopub.status.busy": "2022-03-08T02:28:42.967162Z",
          "iopub.execute_input": "2022-03-08T02:28:42.967429Z",
          "iopub.status.idle": "2022-03-08T02:28:42.978964Z",
          "shell.execute_reply.started": "2022-03-08T02:28:42.967397Z",
          "shell.execute_reply": "2022-03-08T02:28:42.977764Z"
        },
        "trusted": true,
        "colab": {
          "base_uri": "https://localhost:8080/",
          "height": 0
        }
      },
      "execution_count": 214,
      "outputs": [
        {
          "output_type": "execute_result",
          "data": {
            "text/plain": [
              "Loan_ID               0\n",
              "Gender               13\n",
              "Married               3\n",
              "Dependents           15\n",
              "Education             0\n",
              "Self_Employed        32\n",
              "ApplicantIncome       0\n",
              "CoapplicantIncome     0\n",
              "LoanAmount           22\n",
              "Loan_Amount_Term     14\n",
              "Credit_History       50\n",
              "Property_Area         0\n",
              "Loan_Status           0\n",
              "dtype: int64"
            ]
          },
          "metadata": {},
          "execution_count": 214
        }
      ]
    },
    {
      "cell_type": "code",
      "source": [
        "plt.figure(figsize = (24, 5))\n",
        "axz = plt.subplot(1,2,2)\n",
        "mso.bar(df, ax = axz, fontsize = 12);"
      ],
      "metadata": {
        "id": "MSESe0JvVZ67",
        "outputId": "289ad607-c8da-4044-9947-79bfdbba2000",
        "execution": {
          "iopub.status.busy": "2022-03-08T02:28:42.984200Z",
          "iopub.execute_input": "2022-03-08T02:28:42.984509Z",
          "iopub.status.idle": "2022-03-08T02:28:44.077905Z",
          "shell.execute_reply.started": "2022-03-08T02:28:42.984476Z",
          "shell.execute_reply": "2022-03-08T02:28:44.076710Z"
        },
        "trusted": true,
        "colab": {
          "base_uri": "https://localhost:8080/",
          "height": 439
        }
      },
      "execution_count": 215,
      "outputs": [
        {
          "output_type": "display_data",
          "data": {
            "text/plain": [
              "<Figure size 1728x360 with 3 Axes>"
            ],
            "image/png": "[encoded data removed]"
          },
          "metadata": {}
        }
      ]
    },
    {
      "cell_type": "code",
      "source": [
        "df = df.drop(['Loan_ID'], axis = 1)"
      ],
      "metadata": {
        "id": "w255orBlXxSC",
        "execution": {
          "iopub.status.busy": "2022-03-08T02:28:44.079771Z",
          "iopub.execute_input": "2022-03-08T02:28:44.080450Z",
          "iopub.status.idle": "2022-03-08T02:28:44.089968Z",
          "shell.execute_reply.started": "2022-03-08T02:28:44.080387Z",
          "shell.execute_reply": "2022-03-08T02:28:44.088803Z"
        },
        "trusted": true
      },
      "execution_count": 216,
      "outputs": []
    },
    {
      "cell_type": "code",
      "source": [
        "df['Gender'].fillna(df['Gender'].mode()[0],inplace=True)\n",
        "df['Married'].fillna(df['Married'].mode()[0],inplace=True)\n",
        "df['Dependents'].fillna(df['Dependents'].mode()[0],inplace=True)\n",
        "df['Self_Employed'].fillna(df['Self_Employed'].mode()[0],inplace=True)\n",
        "df['Credit_History'].fillna(df['Credit_History'].mode()[0],inplace=True)\n",
        "df['Loan_Amount_Term'].fillna(df['Loan_Amount_Term'].mode()[0],inplace=True)"
      ],
      "metadata": {
        "id": "1Dna_U33V09a",
        "execution": {
          "iopub.status.busy": "2022-03-08T02:28:44.091450Z",
          "iopub.execute_input": "2022-03-08T02:28:44.092049Z",
          "iopub.status.idle": "2022-03-08T02:28:44.107656Z",
          "shell.execute_reply.started": "2022-03-08T02:28:44.091906Z",
          "shell.execute_reply": "2022-03-08T02:28:44.106250Z"
        },
        "trusted": true
      },
      "execution_count": 217,
      "outputs": []
    },
    {
      "cell_type": "code",
      "source": [
        "df['LoanAmount'].fillna(df['LoanAmount'].mean(),inplace=True)"
      ],
      "metadata": {
        "id": "OayJ893bG665",
        "execution": {
          "iopub.status.busy": "2022-03-08T02:28:44.109095Z",
          "iopub.execute_input": "2022-03-08T02:28:44.109628Z",
          "iopub.status.idle": "2022-03-08T02:28:44.122222Z",
          "shell.execute_reply.started": "2022-03-08T02:28:44.109587Z",
          "shell.execute_reply": "2022-03-08T02:28:44.120866Z"
        },
        "trusted": true
      },
      "execution_count": 218,
      "outputs": []
    },
    {
      "cell_type": "code",
      "source": [
        "df = pd.get_dummies(df)\n",
        "\n",
        "# Drop columns\n",
        "df = df.drop(['Gender_Female', 'Married_No', 'Education_Not Graduate', \n",
        "              'Self_Employed_No', 'Loan_Status_N'], axis = 1)\n",
        "\n",
        "# Rename columns name\n",
        "new = {'Gender_Male': 'Gender', 'Married_Yes': 'Married', \n",
        "       'Education_Graduate': 'Education', 'Self_Employed_Yes': 'Self_Employed',\n",
        "       'Loan_Status_Y': 'Loan_Status'}\n",
        "       \n",
        "df.rename(columns=new, inplace=True)"
      ],
      "metadata": {
        "id": "JPrZD3MHLBJO",
        "execution": {
          "iopub.status.busy": "2022-03-08T02:28:44.123834Z",
          "iopub.execute_input": "2022-03-08T02:28:44.124643Z",
          "iopub.status.idle": "2022-03-08T02:28:44.147410Z",
          "shell.execute_reply.started": "2022-03-08T02:28:44.124603Z",
          "shell.execute_reply": "2022-03-08T02:28:44.146216Z"
        },
        "trusted": true
      },
      "execution_count": 219,
      "outputs": []
    },
    {
      "cell_type": "code",
      "source": [
        "Q1 = df.quantile(0.25)\n",
        "Q3 = df.quantile(0.75)\n",
        "IQR = Q3 - Q1\n",
        "\n",
        "df = df[~((df < (Q1 - 1.5 * IQR)) |(df > (Q3 + 1.5 * IQR))).any(axis=1)]"
      ],
      "metadata": {
        "id": "7xXzLUK4kHsf",
        "execution": {
          "iopub.status.busy": "2022-03-08T02:28:44.148939Z",
          "iopub.execute_input": "2022-03-08T02:28:44.149217Z",
          "iopub.status.idle": "2022-03-08T02:28:44.165845Z",
          "shell.execute_reply.started": "2022-03-08T02:28:44.149184Z",
          "shell.execute_reply": "2022-03-08T02:28:44.164707Z"
        },
        "trusted": true
      },
      "execution_count": 220,
      "outputs": []
    },
    {
      "cell_type": "code",
      "source": [
        "# Square Root Transformation\n",
        "\n",
        "df.ApplicantIncome = np.sqrt(df.ApplicantIncome)\n",
        "df.CoapplicantIncome = np.sqrt(df.CoapplicantIncome)\n",
        "df.LoanAmount = np.sqrt(df.LoanAmount)"
      ],
      "metadata": {
        "id": "fMwoGg5BOKjo",
        "execution": {
          "iopub.status.busy": "2022-03-08T02:28:44.167869Z",
          "iopub.execute_input": "2022-03-08T02:28:44.168861Z",
          "iopub.status.idle": "2022-03-08T02:28:44.176992Z",
          "shell.execute_reply.started": "2022-03-08T02:28:44.168808Z",
          "shell.execute_reply": "2022-03-08T02:28:44.175920Z"
        },
        "trusted": true
      },
      "execution_count": 221,
      "outputs": []
    },
    {
      "cell_type": "code",
      "source": [
        "sns.set(style=\"darkgrid\")\n",
        "fig, axs = plt.subplots(2, 2, figsize=(10, 8))\n",
        "\n",
        "sns.histplot(data=df, x=\"ApplicantIncome\", kde=True, ax=axs[0, 0], color='green')\n",
        "sns.histplot(data=df, x=\"CoapplicantIncome\", kde=True, ax=axs[0, 1], color='skyblue')\n",
        "sns.histplot(data=df, x=\"LoanAmount\", kde=True, ax=axs[1, 0], color='orange');"
      ],
      "metadata": {
        "id": "5z_EKO1ITgTU",
        "outputId": "f9d4f71b-e3c2-4f82-9b0b-756c6fd533dc",
        "execution": {
          "iopub.status.busy": "2022-03-08T02:28:44.178489Z",
          "iopub.execute_input": "2022-03-08T02:28:44.179956Z",
          "iopub.status.idle": "2022-03-08T02:28:45.109390Z",
          "shell.execute_reply.started": "2022-03-08T02:28:44.179886Z",
          "shell.execute_reply": "2022-03-08T02:28:45.107962Z"
        },
        "trusted": true,
        "colab": {
          "base_uri": "https://localhost:8080/",
          "height": 502
        }
      },
      "execution_count": 222,
      "outputs": [
        {
          "output_type": "display_data",
          "data": {
            "text/plain": [
              "<Figure size 720x576 with 4 Axes>"
            ],
            "image/png": "[encoded data removed]"
          },
          "metadata": {}
        }
      ]
    },
    {
      "cell_type": "code",
      "source": [
        "X = df.drop([\"Loan_Status\"], axis=1)\n",
        "y = df[\"Loan_Status\"]\n",
        "X, y = SMOTE().fit_resample(X, y)"
      ],
      "metadata": {
        "id": "0IACJ3be-r_s"
      },
      "execution_count": 223,
      "outputs": []
    },
    {
      "cell_type": "code",
      "source": [
        "X = MinMaxScaler().fit_transform(X)"
      ],
      "metadata": {
        "id": "WmA2qj9y0Yqo",
        "execution": {
          "iopub.status.busy": "2022-03-08T02:28:45.365698Z",
          "iopub.execute_input": "2022-03-08T02:28:45.366079Z",
          "iopub.status.idle": "2022-03-08T02:28:45.374013Z",
          "shell.execute_reply.started": "2022-03-08T02:28:45.366029Z",
          "shell.execute_reply": "2022-03-08T02:28:45.373349Z"
        },
        "trusted": true
      },
      "execution_count": 224,
      "outputs": []
    },
    {
      "cell_type": "code",
      "source": [
        "X_train, X_test, y_train, y_test = train_test_split(X, y, test_size = 0.2, random_state = 0)"
      ],
      "metadata": {
        "id": "sfenUwlr3c2Y",
        "execution": {
          "iopub.status.busy": "2022-03-08T02:28:45.375256Z",
          "iopub.execute_input": "2022-03-08T02:28:45.375483Z",
          "iopub.status.idle": "2022-03-08T02:28:45.388807Z",
          "shell.execute_reply.started": "2022-03-08T02:28:45.375455Z",
          "shell.execute_reply": "2022-03-08T02:28:45.387927Z"
        },
        "trusted": true
      },
      "execution_count": 225,
      "outputs": []
    },
    {
      "cell_type": "markdown",
      "source": [
        "# 6. Models "
      ],
      "metadata": {
        "id": "3ixOkJUx3puI"
      }
    },
    {
      "cell_type": "markdown",
      "source": [
        "## 6.1 Logistic Regression"
      ],
      "metadata": {
        "id": "MS0qL8PC4K3o"
      }
    },
    {
      "cell_type": "code",
      "source": [
        "LRclassifier = LogisticRegression(solver='saga', max_iter=500, random_state=1)\n",
        "LRclassifier.fit(X_train, y_train)\n",
        "\n",
        "y_pred = LRclassifier.predict(X_test)\n",
        "\n",
        "print(classification_report(y_test, y_pred))\n",
        "print(confusion_matrix(y_test, y_pred))\n",
        "\n",
        "from sklearn.metrics import accuracy_score\n",
        "LRAcc = accuracy_score(y_pred,y_test)\n",
        "print('LR accuracy: {:.2f}%'.format(LRAcc*100))"
      ],
      "metadata": {
        "id": "Xa5A1VSf4Fgu",
        "execution": {
          "iopub.status.busy": "2022-03-08T02:28:45.390161Z",
          "iopub.execute_input": "2022-03-08T02:28:45.391439Z",
          "iopub.status.idle": "2022-03-08T02:28:45.410919Z",
          "shell.execute_reply.started": "2022-03-08T02:28:45.391364Z",
          "shell.execute_reply": "2022-03-08T02:28:45.410085Z"
        },
        "trusted": true,
        "colab": {
          "base_uri": "https://localhost:8080/",
          "height": 0
        },
        "outputId": "52b36e81-4e6a-4369-a21f-cfd9c9fd3da1"
      },
      "execution_count": 226,
      "outputs": [
        {
          "output_type": "stream",
          "name": "stdout",
          "text": [
            "              precision    recall  f1-score   support\n",
            "\n",
            "           0       0.83      0.87      0.85        23\n",
            "           1       0.86      0.82      0.84        22\n",
            "\n",
            "    accuracy                           0.84        45\n",
            "   macro avg       0.85      0.84      0.84        45\n",
            "weighted avg       0.84      0.84      0.84        45\n",
            "\n",
            "[[20  3]\n",
            " [ 4 18]]\n",
            "LR accuracy: 84.44%\n"
          ]
        }
      ]
    },
    {
      "cell_type": "markdown",
      "source": [
        "## 6.2 K-Nearest Neighbour (KNN)"
      ],
      "metadata": {
        "id": "1taw0vyy7hu9"
      }
    },
    {
      "cell_type": "code",
      "source": [
        "scoreListknn = []\n",
        "for i in range(1,21):\n",
        "    KNclassifier = KNeighborsClassifier(n_neighbors = i)\n",
        "    KNclassifier.fit(X_train, y_train)\n",
        "    scoreListknn.append(KNclassifier.score(X_test, y_test))\n",
        "    \n",
        "plt.plot(range(1,21), scoreListknn)\n",
        "plt.xticks(np.arange(1,21,1))\n",
        "plt.xlabel(\"K value\")\n",
        "plt.ylabel(\"Score\")\n",
        "plt.show()\n",
        "KNAcc = max(scoreListknn)\n",
        "print(\"KNN best accuracy: {:.2f}%\".format(KNAcc*100))"
      ],
      "metadata": {
        "id": "1c77uWXR5bwM",
        "execution": {
          "iopub.status.busy": "2022-03-08T02:28:45.412265Z",
          "iopub.execute_input": "2022-03-08T02:28:45.412650Z",
          "iopub.status.idle": "2022-03-08T02:28:45.798624Z",
          "shell.execute_reply.started": "2022-03-08T02:28:45.412618Z",
          "shell.execute_reply": "2022-03-08T02:28:45.797526Z"
        },
        "trusted": true,
        "colab": {
          "base_uri": "https://localhost:8080/",
          "height": 0
        },
        "outputId": "e74e7db2-caec-4b4d-822b-33b6f976ab25"
      },
      "execution_count": 227,
      "outputs": [
        {
          "output_type": "display_data",
          "data": {
            "text/plain": [
              "<Figure size 432x288 with 1 Axes>"
            ],
            "image/png": "[encoded data removed]"
          },
          "metadata": {}
        },
        {
          "output_type": "stream",
          "name": "stdout",
          "text": [
            "KNN best accuracy: 86.67%\n"
          ]
        }
      ]
    },
    {
      "cell_type": "markdown",
      "source": [
        "## 6.3 Support Vector Machine (SVM)"
      ],
      "metadata": {
        "id": "sZiCQChQ8IUG"
      }
    },
    {
      "cell_type": "code",
      "source": [
        "SVCclassifier = SVC(kernel='rbf', max_iter=500)\n",
        "SVCclassifier.fit(X_train, y_train)\n",
        "\n",
        "y_pred = SVCclassifier.predict(X_test)\n",
        "\n",
        "print(classification_report(y_test, y_pred))\n",
        "print(confusion_matrix(y_test, y_pred))\n",
        "\n",
        "from sklearn.metrics import accuracy_score\n",
        "SVCAcc = accuracy_score(y_pred,y_test)\n",
        "print('SVC accuracy: {:.2f}%'.format(SVCAcc*100))"
      ],
      "metadata": {
        "id": "EaPdKhgx8RsA",
        "execution": {
          "iopub.status.busy": "2022-03-08T02:28:45.800593Z",
          "iopub.execute_input": "2022-03-08T02:28:45.800881Z",
          "iopub.status.idle": "2022-03-08T02:28:45.816735Z",
          "shell.execute_reply.started": "2022-03-08T02:28:45.800841Z",
          "shell.execute_reply": "2022-03-08T02:28:45.815706Z"
        },
        "trusted": true,
        "colab": {
          "base_uri": "https://localhost:8080/",
          "height": 0
        },
        "outputId": "472c3270-1f09-4bb4-a1be-78b782850c63"
      },
      "execution_count": 228,
      "outputs": [
        {
          "output_type": "stream",
          "name": "stdout",
          "text": [
            "              precision    recall  f1-score   support\n",
            "\n",
            "           0       0.87      0.87      0.87        23\n",
            "           1       0.86      0.86      0.86        22\n",
            "\n",
            "    accuracy                           0.87        45\n",
            "   macro avg       0.87      0.87      0.87        45\n",
            "weighted avg       0.87      0.87      0.87        45\n",
            "\n",
            "[[20  3]\n",
            " [ 3 19]]\n",
            "SVC accuracy: 86.67%\n"
          ]
        }
      ]
    },
    {
      "cell_type": "markdown",
      "source": [
        "## 6.4 Naive Bayes"
      ],
      "metadata": {
        "id": "W5bkW7Ez9EQw"
      }
    },
    {
      "cell_type": "markdown",
      "source": [
        "### 6.4.1 Categorical NB"
      ],
      "metadata": {
        "id": "z9iKq1Xy9fmw"
      }
    },
    {
      "cell_type": "code",
      "source": [
        "NBclassifier1 = CategoricalNB()\n",
        "NBclassifier1.fit(X_train, y_train)\n",
        "\n",
        "y_pred = NBclassifier1.predict(X_test)\n",
        "\n",
        "print(classification_report(y_test, y_pred))\n",
        "print(confusion_matrix(y_test, y_pred))\n",
        "\n",
        "from sklearn.metrics import accuracy_score\n",
        "NBAcc1 = accuracy_score(y_pred,y_test)\n",
        "print('Categorical Naive Bayes accuracy: {:.2f}%'.format(NBAcc1*100))"
      ],
      "metadata": {
        "id": "OMt6iovq9D4Z",
        "execution": {
          "iopub.status.busy": "2022-03-08T02:28:45.818198Z",
          "iopub.execute_input": "2022-03-08T02:28:45.819728Z",
          "iopub.status.idle": "2022-03-08T02:28:45.839794Z",
          "shell.execute_reply.started": "2022-03-08T02:28:45.819661Z",
          "shell.execute_reply": "2022-03-08T02:28:45.838814Z"
        },
        "trusted": true,
        "colab": {
          "base_uri": "https://localhost:8080/",
          "height": 0
        },
        "outputId": "6e146484-50cc-496d-e55f-71e80c5472fb"
      },
      "execution_count": 229,
      "outputs": [
        {
          "output_type": "stream",
          "name": "stdout",
          "text": [
            "              precision    recall  f1-score   support\n",
            "\n",
            "           0       0.74      1.00      0.85        23\n",
            "           1       1.00      0.64      0.78        22\n",
            "\n",
            "    accuracy                           0.82        45\n",
            "   macro avg       0.87      0.82      0.81        45\n",
            "weighted avg       0.87      0.82      0.82        45\n",
            "\n",
            "[[23  0]\n",
            " [ 8 14]]\n",
            "Categorical Naive Bayes accuracy: 82.22%\n"
          ]
        }
      ]
    },
    {
      "cell_type": "markdown",
      "source": [
        "### 6.4.2 Gaussian NB"
      ],
      "metadata": {
        "id": "bjlQpJN59UbD"
      }
    },
    {
      "cell_type": "code",
      "source": [
        "NBclassifier2 = GaussianNB()\n",
        "NBclassifier2.fit(X_train, y_train)\n",
        "\n",
        "y_pred = NBclassifier2.predict(X_test)\n",
        "\n",
        "print(classification_report(y_test, y_pred))\n",
        "print(confusion_matrix(y_test, y_pred))\n",
        "\n",
        "from sklearn.metrics import accuracy_score\n",
        "NBAcc2 = accuracy_score(y_pred,y_test)\n",
        "print('Gaussian Naive Bayes accuracy: {:.2f}%'.format(NBAcc2*100))"
      ],
      "metadata": {
        "id": "RJv2_DVl9Tn8",
        "execution": {
          "iopub.status.busy": "2022-03-08T02:28:45.841088Z",
          "iopub.execute_input": "2022-03-08T02:28:45.841403Z",
          "iopub.status.idle": "2022-03-08T02:28:45.858580Z",
          "shell.execute_reply.started": "2022-03-08T02:28:45.841369Z",
          "shell.execute_reply": "2022-03-08T02:28:45.857579Z"
        },
        "trusted": true,
        "colab": {
          "base_uri": "https://localhost:8080/",
          "height": 0
        },
        "outputId": "36460de5-eb15-4e14-f4b2-f4d3b85d39c7"
      },
      "execution_count": 230,
      "outputs": [
        {
          "output_type": "stream",
          "name": "stdout",
          "text": [
            "              precision    recall  f1-score   support\n",
            "\n",
            "           0       0.72      1.00      0.84        23\n",
            "           1       1.00      0.59      0.74        22\n",
            "\n",
            "    accuracy                           0.80        45\n",
            "   macro avg       0.86      0.80      0.79        45\n",
            "weighted avg       0.86      0.80      0.79        45\n",
            "\n",
            "[[23  0]\n",
            " [ 9 13]]\n",
            "Gaussian Naive Bayes accuracy: 80.00%\n"
          ]
        }
      ]
    },
    {
      "cell_type": "markdown",
      "source": [
        "## 6.5 Decision Tree"
      ],
      "metadata": {
        "id": "cnen-6ZD9ZWc"
      }
    },
    {
      "cell_type": "code",
      "source": [
        "scoreListDT = []\n",
        "for i in range(2,21):\n",
        "    DTclassifier = DecisionTreeClassifier(max_leaf_nodes=i)\n",
        "    DTclassifier.fit(X_train, y_train)\n",
        "    scoreListDT.append(DTclassifier.score(X_test, y_test))\n",
        "    \n",
        "plt.plot(range(2,21), scoreListDT)\n",
        "plt.xticks(np.arange(2,21,1))\n",
        "plt.xlabel(\"Leaf\")\n",
        "plt.ylabel(\"Score\")\n",
        "plt.show()\n",
        "DTAcc = max(scoreListDT)\n",
        "print(\"Decision Tree Accuracy: {:.2f}%\".format(DTAcc*100))"
      ],
      "metadata": {
        "id": "twABLtSw9icG",
        "execution": {
          "iopub.status.busy": "2022-03-08T02:28:45.860068Z",
          "iopub.execute_input": "2022-03-08T02:28:45.860894Z",
          "iopub.status.idle": "2022-03-08T02:28:46.411716Z",
          "shell.execute_reply.started": "2022-03-08T02:28:45.860842Z",
          "shell.execute_reply": "2022-03-08T02:28:46.410654Z"
        },
        "trusted": true,
        "colab": {
          "base_uri": "https://localhost:8080/",
          "height": 0
        },
        "outputId": "25269155-6189-4360-e83d-ce50f218247c"
      },
      "execution_count": 231,
      "outputs": [
        {
          "output_type": "display_data",
          "data": {
            "text/plain": [
              "<Figure size 432x288 with 1 Axes>"
            ],
            "image/png": "[encoded data removed]"
          },
          "metadata": {}
        },
        {
          "output_type": "stream",
          "name": "stdout",
          "text": [
            "Decision Tree Accuracy: 82.22%\n"
          ]
        }
      ]
    },
    {
      "cell_type": "markdown",
      "source": [
        "## 6.6 Random Forest"
      ],
      "metadata": {
        "id": "GfW_OJU69opG"
      }
    },
    {
      "cell_type": "code",
      "source": [
        "scoreListRF = []\n",
        "for i in range(2,25):\n",
        "    RFclassifier = RandomForestClassifier(n_estimators = 1000, random_state = 1, max_leaf_nodes=i)\n",
        "    RFclassifier.fit(X_train, y_train)\n",
        "    scoreListRF.append(RFclassifier.score(X_test, y_test))\n",
        "    \n",
        "plt.plot(range(2,25), scoreListRF)\n",
        "plt.xticks(np.arange(2,25,1))\n",
        "plt.xlabel(\"RF Value\")\n",
        "plt.ylabel(\"Score\")\n",
        "plt.show()\n",
        "RFAcc = max(scoreListRF)\n",
        "print(\"Random Forest Accuracy:  {:.2f}%\".format(RFAcc*100))"
      ],
      "metadata": {
        "id": "TnLwqYnP9pD7",
        "execution": {
          "iopub.status.busy": "2022-03-08T02:28:46.412985Z",
          "iopub.execute_input": "2022-03-08T02:28:46.413245Z",
          "iopub.status.idle": "2022-03-08T02:29:19.705356Z",
          "shell.execute_reply.started": "2022-03-08T02:28:46.413213Z",
          "shell.execute_reply": "2022-03-08T02:29:19.704417Z"
        },
        "trusted": true,
        "colab": {
          "base_uri": "https://localhost:8080/",
          "height": 304
        },
        "outputId": "6f4e5b34-8701-42b1-d5b5-3796ee28d37e"
      },
      "execution_count": 232,
      "outputs": [
        {
          "output_type": "display_data",
          "data": {
            "text/plain": [
              "<Figure size 432x288 with 1 Axes>"
            ],
            "image/png": "[encoded data removed]"
          },
          "metadata": {}
        },
        {
          "output_type": "stream",
          "name": "stdout",
          "text": [
            "Random Forest Accuracy:  93.33%\n"
          ]
        }
      ]
    },
    {
      "cell_type": "markdown",
      "source": [
        "## 6.7 Gradient Boosting"
      ],
      "metadata": {
        "id": "2AszJDft-gc6"
      }
    },
    {
      "cell_type": "code",
      "source": [
        "paramsGB={'n_estimators':[100,200,300,400,500],\n",
        "      'max_depth':[1,2,3,4,5],\n",
        "      'subsample':[0.5,1],\n",
        "      'max_leaf_nodes':[2,5,10,20,30,40,50]}"
      ],
      "metadata": {
        "id": "Ev-NFeI0-WcW",
        "execution": {
          "iopub.status.busy": "2022-03-08T02:29:19.706813Z",
          "iopub.execute_input": "2022-03-08T02:29:19.707335Z",
          "iopub.status.idle": "2022-03-08T02:29:19.714536Z",
          "shell.execute_reply.started": "2022-03-08T02:29:19.707288Z",
          "shell.execute_reply": "2022-03-08T02:29:19.712973Z"
        },
        "trusted": true
      },
      "execution_count": 233,
      "outputs": []
    },
    {
      "cell_type": "code",
      "source": [
        "GB = RandomizedSearchCV(GradientBoostingClassifier(), paramsGB, cv=20)\n",
        "GB.fit(X_train, y_train)"
      ],
      "metadata": {
        "id": "r46JuovY-j9z",
        "execution": {
          "iopub.status.busy": "2022-03-08T02:29:19.716086Z",
          "iopub.execute_input": "2022-03-08T02:29:19.716538Z",
          "iopub.status.idle": "2022-03-08T02:29:58.801788Z",
          "shell.execute_reply.started": "2022-03-08T02:29:19.716488Z",
          "shell.execute_reply": "2022-03-08T02:29:58.800888Z"
        },
        "trusted": true,
        "colab": {
          "base_uri": "https://localhost:8080/",
          "height": 0
        },
        "outputId": "76989211-e1bf-4c0b-b655-89aa4022338c"
      },
      "execution_count": 234,
      "outputs": [
        {
          "output_type": "execute_result",
          "data": {
            "text/plain": [
              "RandomizedSearchCV(cv=20, estimator=GradientBoostingClassifier(),\n",
              "                   param_distributions={'max_depth': [1, 2, 3, 4, 5],\n",
              "                                        'max_leaf_nodes': [2, 5, 10, 20, 30, 40,\n",
              "                                                           50],\n",
              "                                        'n_estimators': [100, 200, 300, 400,\n",
              "                                                         500],\n",
              "                                        'subsample': [0.5, 1]})"
            ]
          },
          "metadata": {},
          "execution_count": 234
        }
      ]
    },
    {
      "cell_type": "code",
      "source": [
        "print(GB.best_estimator_)\n",
        "print(GB.best_score_)\n",
        "print(GB.best_params_)\n",
        "print(GB.best_index_)"
      ],
      "metadata": {
        "id": "y-rIVPNu-qyZ",
        "execution": {
          "iopub.status.busy": "2022-03-08T02:29:58.802937Z",
          "iopub.execute_input": "2022-03-08T02:29:58.803165Z",
          "iopub.status.idle": "2022-03-08T02:29:58.809530Z",
          "shell.execute_reply.started": "2022-03-08T02:29:58.803123Z",
          "shell.execute_reply": "2022-03-08T02:29:58.808579Z"
        },
        "trusted": true,
        "colab": {
          "base_uri": "https://localhost:8080/",
          "height": 0
        },
        "outputId": "483dc89b-d337-41e5-fc93-9ef42b1c93b3"
      },
      "execution_count": 235,
      "outputs": [
        {
          "output_type": "stream",
          "name": "stdout",
          "text": [
            "GradientBoostingClassifier(max_depth=5, max_leaf_nodes=50, n_estimators=400,\n",
            "                           subsample=1)\n",
            "0.8326388888888889\n",
            "{'subsample': 1, 'n_estimators': 400, 'max_leaf_nodes': 50, 'max_depth': 5}\n",
            "0\n"
          ]
        }
      ]
    },
    {
      "cell_type": "code",
      "source": [
        "GBclassifier = GradientBoostingClassifier(subsample=0.5, n_estimators=400, max_depth=4, max_leaf_nodes=10)\n",
        "GBclassifier.fit(X_train, y_train)\n",
        "\n",
        "y_pred = GBclassifier.predict(X_test)\n",
        "\n",
        "print(classification_report(y_test, y_pred))\n",
        "print(confusion_matrix(y_test, y_pred))\n",
        "\n",
        "from sklearn.metrics import accuracy_score\n",
        "GBAcc = accuracy_score(y_pred,y_test)\n",
        "print('Gradient Boosting accuracy: {:.2f}%'.format(GBAcc*100))"
      ],
      "metadata": {
        "id": "anLZFMBWAPAG",
        "execution": {
          "iopub.status.busy": "2022-03-08T02:29:58.811156Z",
          "iopub.execute_input": "2022-03-08T02:29:58.811818Z",
          "iopub.status.idle": "2022-03-08T02:29:59.167884Z",
          "shell.execute_reply.started": "2022-03-08T02:29:58.811774Z",
          "shell.execute_reply": "2022-03-08T02:29:59.166931Z"
        },
        "trusted": true,
        "colab": {
          "base_uri": "https://localhost:8080/",
          "height": 0
        },
        "outputId": "c32fed29-64c1-473b-a1b7-b5d5a9d395f4"
      },
      "execution_count": 236,
      "outputs": [
        {
          "output_type": "stream",
          "name": "stdout",
          "text": [
            "              precision    recall  f1-score   support\n",
            "\n",
            "           0       0.81      0.91      0.86        23\n",
            "           1       0.89      0.77      0.83        22\n",
            "\n",
            "    accuracy                           0.84        45\n",
            "   macro avg       0.85      0.84      0.84        45\n",
            "weighted avg       0.85      0.84      0.84        45\n",
            "\n",
            "[[21  2]\n",
            " [ 5 17]]\n",
            "Gradient Boosting accuracy: 84.44%\n"
          ]
        }
      ]
    },
    {
      "cell_type": "markdown",
      "source": [
        "# 7. Model Comparison "
      ],
      "metadata": {
        "id": "x1vw6r9ICK8J"
      }
    },
    {
      "cell_type": "code",
      "source": [
        "compare = pd.DataFrame({'Model': ['Logistic Regression', 'K Neighbors', \n",
        "                                  'SVM', 'Categorical NB', \n",
        "                                  'Gaussian NB', 'Decision Tree', \n",
        "                                  'Random Forest', 'Gradient Boost'], \n",
        "                        'Accuracy': [LRAcc*100, KNAcc*100, SVCAcc*100, \n",
        "                                     NBAcc1*100, NBAcc2*100, DTAcc*100, \n",
        "                                     RFAcc*100, GBAcc*100]})\n",
        "compare.sort_values(by='Accuracy', ascending=False)"
      ],
      "metadata": {
        "id": "SGzOLxRMArx0",
        "execution": {
          "iopub.status.busy": "2022-03-08T02:29:59.169277Z",
          "iopub.execute_input": "2022-03-08T02:29:59.169877Z",
          "iopub.status.idle": "2022-03-08T02:29:59.184409Z",
          "shell.execute_reply.started": "2022-03-08T02:29:59.169833Z",
          "shell.execute_reply": "2022-03-08T02:29:59.183302Z"
        },
        "trusted": true,
        "colab": {
          "base_uri": "https://localhost:8080/",
          "height": 300
        },
        "outputId": "4bed266f-8e64-4c88-dd4c-6d3c8e302519"
      },
      "execution_count": 237,
      "outputs": [
        {
          "output_type": "execute_result",
          "data": {
            "text/plain": [
              "                 Model   Accuracy\n",
              "6        Random Forest  93.333333\n",
              "1          K Neighbors  86.666667\n",
              "2                  SVM  86.666667\n",
              "0  Logistic Regression  84.444444\n",
              "7       Gradient Boost  84.444444\n",
              "3       Categorical NB  82.222222\n",
              "5        Decision Tree  82.222222\n",
              "4          Gaussian NB  80.000000"
            ],
            "text/html": [
              "\n",
              "  <div id=\"df-6717d81e-2dd7-4427-ab33-b77f5e99b364\">\n",
              "    <div class=\"colab-df-container\">\n",
              "      <div>\n",
              "<style scoped>\n",
              "    .dataframe tbody tr th:only-of-type {\n",
              "        vertical-align: middle;\n",
              "    }\n",
              "\n",
              "    .dataframe tbody tr th {\n",
              "        vertical-align: top;\n",
              "    }\n",
              "\n",
              "    .dataframe thead th {\n",
              "        text-align: right;\n",
              "    }\n",
              "</style>\n",
              "<table border=\"1\" class=\"dataframe\">\n",
              "  <thead>\n",
              "    <tr style=\"text-align: right;\">\n",
              "      <th></th>\n",
              "      <th>Model</th>\n",
              "      <th>Accuracy</th>\n",
              "    </tr>\n",
              "  </thead>\n",
              "  <tbody>\n",
              "    <tr>\n",
              "      <th>6</th>\n",
              "      <td>Random Forest</td>\n",
              "      <td>93.333333</td>\n",
              "    </tr>\n",
              "    <tr>\n",
              "      <th>1</th>\n",
              "      <td>K Neighbors</td>\n",
              "      <td>86.666667</td>\n",
              "    </tr>\n",
              "    <tr>\n",
              "      <th>2</th>\n",
              "      <td>SVM</td>\n",
              "      <td>86.666667</td>\n",
              "    </tr>\n",
              "    <tr>\n",
              "      <th>0</th>\n",
              "      <td>Logistic Regression</td>\n",
              "      <td>84.444444</td>\n",
              "    </tr>\n",
              "    <tr>\n",
              "      <th>7</th>\n",
              "      <td>Gradient Boost</td>\n",
              "      <td>84.444444</td>\n",
              "    </tr>\n",
              "    <tr>\n",
              "      <th>3</th>\n",
              "      <td>Categorical NB</td>\n",
              "      <td>82.222222</td>\n",
              "    </tr>\n",
              "    <tr>\n",
              "      <th>5</th>\n",
              "      <td>Decision Tree</td>\n",
              "      <td>82.222222</td>\n",
              "    </tr>\n",
              "    <tr>\n",
              "      <th>4</th>\n",
              "      <td>Gaussian NB</td>\n",
              "      <td>80.000000</td>\n",
              "    </tr>\n",
              "  </tbody>\n",
              "</table>\n",
              "</div>\n",
              "      <button class=\"colab-df-convert\" onclick=\"convertToInteractive('df-6717d81e-2dd7-4427-ab33-b77f5e99b364')\"\n",
              "              title=\"Convert this dataframe to an interactive table.\"\n",
              "              style=\"display:none;\">\n",
              "        \n",
              "  <svg xmlns=\"http://www.w3.org/2000/svg\" height=\"24px\"viewBox=\"0 0 24 24\"\n",
              "       width=\"24px\">\n",
              "    <path d=\"M0 0h24v24H0V0z\" fill=\"none\"/>\n",
              "    <path d=\"M18.56 5.44l.94 2.06.94-2.06 2.06-.94-2.06-.94-.94-2.06-.94 2.06-2.06.94zm-11 1L8.5 8.5l.94-2.06 2.06-.94-2.06-.94L8.5 2.5l-.94 2.06-2.06.94zm10 10l.94 2.06.94-2.06 2.06-.94-2.06-.94-.94-2.06-.94 2.06-2.06.94z\"/><path d=\"M17.41 7.96l-1.37-1.37c-.4-.4-.92-.59-1.43-.59-.52 0-1.04.2-1.43.59L10.3 9.45l-7.72 7.72c-.78.78-.78 2.05 0 2.83L4 21.41c.39.39.9.59 1.41.59.51 0 1.02-.2 1.41-.59l7.78-7.78 2.81-2.81c.8-.78.8-2.07 0-2.86zM5.41 20L4 18.59l7.72-7.72 1.47 1.35L5.41 20z\"/>\n",
              "  </svg>\n",
              "      </button>\n",
              "      \n",
              "  <style>\n",
              "    .colab-df-container {\n",
              "      display:flex;\n",
              "      flex-wrap:wrap;\n",
              "      gap: 12px;\n",
              "    }\n",
              "\n",
              "    .colab-df-convert {\n",
              "      background-color: #E8F0FE;\n",
              "      border: none;\n",
              "      border-radius: 50%;\n",
              "      cursor: pointer;\n",
              "      display: none;\n",
              "      fill: #1967D2;\n",
              "      height: 32px;\n",
              "      padding: 0 0 0 0;\n",
              "      width: 32px;\n",
              "    }\n",
              "\n",
              "    .colab-df-convert:hover {\n",
              "      background-color: #E2EBFA;\n",
              "      box-shadow: 0px 1px 2px rgba(60, 64, 67, 0.3), 0px 1px 3px 1px rgba(60, 64, 67, 0.15);\n",
              "      fill: #174EA6;\n",
              "    }\n",
              "\n",
              "    [theme=dark] .colab-df-convert {\n",
              "      background-color: #3B4455;\n",
              "      fill: #D2E3FC;\n",
              "    }\n",
              "\n",
              "    [theme=dark] .colab-df-convert:hover {\n",
              "      background-color: #434B5C;\n",
              "      box-shadow: 0px 1px 3px 1px rgba(0, 0, 0, 0.15);\n",
              "      filter: drop-shadow(0px 1px 2px rgba(0, 0, 0, 0.3));\n",
              "      fill: #FFFFFF;\n",
              "    }\n",
              "  </style>\n",
              "\n",
              "      <script>\n",
              "        const buttonEl =\n",
              "          document.querySelector('#df-6717d81e-2dd7-4427-ab33-b77f5e99b364 button.colab-df-convert');\n",
              "        buttonEl.style.display =\n",
              "          google.colab.kernel.accessAllowed ? 'block' : 'none';\n",
              "\n",
              "        async function convertToInteractive(key) {\n",
              "          const element = document.querySelector('#df-6717d81e-2dd7-4427-ab33-b77f5e99b364');\n",
              "          const dataTable =\n",
              "            await google.colab.kernel.invokeFunction('convertToInteractive',\n",
              "                                                     [key], {});\n",
              "          if (!dataTable) return;\n",
              "\n",
              "          const docLinkHtml = 'Like what you see? Visit the ' +\n",
              "            '<a target=\"_blank\" href=https://colab.research.google.com/notebooks/data_table.ipynb>data table notebook</a>'\n",
              "            + ' to learn more about interactive tables.';\n",
              "          element.innerHTML = '';\n",
              "          dataTable['output_type'] = 'display_data';\n",
              "          await google.colab.output.renderOutput(dataTable, element);\n",
              "          const docLink = document.createElement('div');\n",
              "          docLink.innerHTML = docLinkHtml;\n",
              "          element.appendChild(docLink);\n",
              "        }\n",
              "      </script>\n",
              "    </div>\n",
              "  </div>\n",
              "  "
            ]
          },
          "metadata": {},
          "execution_count": 237
        }
      ]
    }
  ]
}